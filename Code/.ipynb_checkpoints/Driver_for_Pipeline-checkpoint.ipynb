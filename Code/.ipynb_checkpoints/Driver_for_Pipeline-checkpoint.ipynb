{
 "cells": [
  {
   "cell_type": "markdown",
   "metadata": {},
   "source": [
    "# Code for importing iPython notebooks"
   ]
  },
  {
   "cell_type": "code",
   "execution_count": 1,
   "metadata": {
    "collapsed": false
   },
   "outputs": [
    {
     "name": "stderr",
     "output_type": "stream",
     "text": [
<<<<<<< HEAD
      "/Users/courtneycochrane/anaconda/envs/py27/lib/python2.7/site-packages/nbformat/current.py:19: UserWarning: nbformat.current is deprecated.\n",
=======
      "C:\\Users\\David Castineira\\Anaconda2\\lib\\site-packages\\nbformat\\current.py:19: UserWarning: nbformat.current is deprecated.\n",
>>>>>>> 492e195c983c432cc4b2098f69bc5014a60c6fbf
      "\n",
      "- use nbformat for read/write/validate public API\n",
      "- use nbformat.vX directly to composing notebooks of a particular version\n",
      "\n",
      "  \"\"\")\n"
     ]
    }
   ],
   "source": [
    "import io, os, sys, types\n",
    "from IPython import get_ipython\n",
    "from nbformat import current\n",
    "from IPython.core.interactiveshell import InteractiveShell\n",
    "\n",
    "def find_notebook(fullname, path=None):\n",
    "    \"\"\"find a notebook, given its fully qualified name and an optional path\n",
    "\n",
    "    This turns \"foo.bar\" into \"foo/bar.ipynb\"\n",
    "    and tries turning \"Foo_Bar\" into \"Foo Bar\" if Foo_Bar\n",
    "    does not exist.\n",
    "    \"\"\"\n",
    "    name = fullname.rsplit('.', 1)[-1]\n",
    "    if not path:\n",
    "        path = ['']\n",
    "    for d in path:\n",
    "        nb_path = os.path.join(d, name + \".ipynb\")\n",
    "        if os.path.isfile(nb_path):\n",
    "            return nb_path\n",
    "        # let import Notebook_Name find \"Notebook Name.ipynb\"\n",
    "        nb_path = nb_path.replace(\"_\", \" \")\n",
    "        if os.path.isfile(nb_path):\n",
    "            return nb_path\n",
    "\n",
    "\n",
    "class NotebookLoader(object):\n",
    "    \"\"\"Module Loader for Jupyter Notebooks\"\"\"\n",
    "    def __init__(self, path=None):\n",
    "        self.shell = InteractiveShell.instance()\n",
    "        self.path = path\n",
    "\n",
    "    def load_module(self, fullname):\n",
    "        \"\"\"import a notebook as a module\"\"\"\n",
    "        path = find_notebook(fullname, self.path)\n",
    "\n",
    "        print (\"importing Jupyter notebook from %s\" % path)\n",
    "\n",
    "        # load the notebook object\n",
    "        with io.open(path, 'r', encoding='utf-8') as f:\n",
    "            nb = current.read(f, 'json')\n",
    "\n",
    "\n",
    "        # create the module and add it to sys.modules\n",
    "        # if name in sys.modules:\n",
    "        #    return sys.modules[name]\n",
    "        mod = types.ModuleType(fullname)\n",
    "        mod.__file__ = path\n",
    "        mod.__loader__ = self\n",
    "        mod.__dict__['get_ipython'] = get_ipython\n",
    "        sys.modules[fullname] = mod\n",
    "\n",
    "        # extra work to ensure that magics that would affect the user_ns\n",
    "        # actually affect the notebook module's ns\n",
    "        save_user_ns = self.shell.user_ns\n",
    "        self.shell.user_ns = mod.__dict__\n",
    "\n",
    "        try:\n",
    "            for cell in nb.worksheets[0].cells:\n",
    "                if cell.cell_type == 'code' and cell.language == 'python':\n",
    "                    # transform the input to executable Python\n",
    "                    code = self.shell.input_transformer_manager.transform_cell(cell.input)\n",
    "                    # run the code in themodule\n",
    "                    exec(code, mod.__dict__)\n",
    "        finally:\n",
    "            self.shell.user_ns = save_user_ns\n",
    "        return mod\n",
    "\n",
    "\n",
    "class NotebookFinder(object):\n",
    "    \"\"\"Module finder that locates Jupyter Notebooks\"\"\"\n",
    "    def __init__(self):\n",
    "        self.loaders = {}\n",
    "\n",
    "    def find_module(self, fullname, path=None):\n",
    "        nb_path = find_notebook(fullname, path)\n",
    "        if not nb_path:\n",
    "            return\n",
    "\n",
    "        key = path\n",
    "        if path:\n",
    "            # lists aren't hashable\n",
    "            key = os.path.sep.join(path)\n",
    "\n",
    "        if key not in self.loaders:\n",
    "            self.loaders[key] = NotebookLoader(path)\n",
    "        return self.loaders[key]\n",
    "\n",
    "sys.meta_path.append(NotebookFinder())\n"
   ]
  },
  {
   "cell_type": "markdown",
   "metadata": {},
   "source": [
    "# Import and Run Pipeline"
   ]
  },
  {
   "cell_type": "code",
   "execution_count": 2,
   "metadata": {
    "collapsed": false
   },
   "outputs": [
    {
     "name": "stdout",
     "output_type": "stream",
     "text": [
      "importing Jupyter notebook from MergeDiagnosis_AdjustedLabels.ipynb\n",
      "importing Jupyter notebook from Categorical_Updated.ipynb\n",
      "importing Jupyter notebook from LongitudinalDataAnalysis.ipynb\n"
     ]
    },
    {
<<<<<<< HEAD
=======
     "name": "stderr",
     "output_type": "stream",
     "text": [
      "C:\\Users\\David Castineira\\Anaconda2\\lib\\site-packages\\pandas\\computation\\__init__.py:19: UserWarning: The installed version of numexpr 2.4.4 is not supported in pandas and will be not be used\n",
      "\n",
      "  UserWarning)\n"
     ]
    },
    {
     "data": {
      "application/javascript": [
       "IPython.OutputArea.auto_scroll_threshold = 9999"
      ],
      "text/plain": [
       "<IPython.core.display.Javascript object>"
      ]
     },
     "metadata": {},
     "output_type": "display_data"
    },
    {
     "name": "stdout",
     "output_type": "stream",
     "text": [
      "importing Jupyter notebook from Imputation.ipynb\n",
      "importing Jupyter notebook from FeatureReduction.ipynb\n"
     ]
    },
    {
>>>>>>> 492e195c983c432cc4b2098f69bc5014a60c6fbf
     "data": {
      "application/javascript": [
       "IPython.OutputArea.auto_scroll_threshold = 9999"
      ],
      "text/plain": [
       "<IPython.core.display.Javascript object>"
      ]
     },
     "metadata": {},
     "output_type": "display_data"
    },
    {
<<<<<<< HEAD
     "ename": "KeyboardInterrupt",
     "evalue": "",
     "output_type": "error",
     "traceback": [
      "\u001b[0;31m---------------------------------------------------------------------------\u001b[0m",
      "\u001b[0;31mKeyboardInterrupt\u001b[0m                         Traceback (most recent call last)",
      "\u001b[0;32m<ipython-input-2-ca1f2babf029>\u001b[0m in \u001b[0;36m<module>\u001b[0;34m()\u001b[0m\n\u001b[1;32m      5\u001b[0m \u001b[0;32mimport\u001b[0m \u001b[0mMergeDiagnosis_AdjustedLabels\u001b[0m\u001b[0;34m\u001b[0m\u001b[0m\n\u001b[1;32m      6\u001b[0m \u001b[0;32mimport\u001b[0m \u001b[0mCategorical_Updated\u001b[0m\u001b[0;34m\u001b[0m\u001b[0m\n\u001b[0;32m----> 7\u001b[0;31m \u001b[0;32mimport\u001b[0m \u001b[0mLongitudinalDataAnalysis\u001b[0m\u001b[0;34m\u001b[0m\u001b[0m\n\u001b[0m\u001b[1;32m      8\u001b[0m \u001b[0;32mimport\u001b[0m \u001b[0mImputation\u001b[0m\u001b[0;34m\u001b[0m\u001b[0m\n\u001b[1;32m      9\u001b[0m \u001b[0;32mimport\u001b[0m \u001b[0mFeatureReduction\u001b[0m\u001b[0;34m\u001b[0m\u001b[0m\n",
      "\u001b[0;32m<ipython-input-1-751a6da14469>\u001b[0m in \u001b[0;36mload_module\u001b[0;34m(self, fullname)\u001b[0m\n\u001b[1;32m     59\u001b[0m                 \u001b[0;32mif\u001b[0m \u001b[0mcell\u001b[0m\u001b[0;34m.\u001b[0m\u001b[0mcell_type\u001b[0m \u001b[0;34m==\u001b[0m \u001b[0;34m'code'\u001b[0m \u001b[0;32mand\u001b[0m \u001b[0mcell\u001b[0m\u001b[0;34m.\u001b[0m\u001b[0mlanguage\u001b[0m \u001b[0;34m==\u001b[0m \u001b[0;34m'python'\u001b[0m\u001b[0;34m:\u001b[0m\u001b[0;34m\u001b[0m\u001b[0m\n\u001b[1;32m     60\u001b[0m                     \u001b[0;31m# transform the input to executable Python\u001b[0m\u001b[0;34m\u001b[0m\u001b[0;34m\u001b[0m\u001b[0m\n\u001b[0;32m---> 61\u001b[0;31m                     \u001b[0mcode\u001b[0m \u001b[0;34m=\u001b[0m \u001b[0mself\u001b[0m\u001b[0;34m.\u001b[0m\u001b[0mshell\u001b[0m\u001b[0;34m.\u001b[0m\u001b[0minput_transformer_manager\u001b[0m\u001b[0;34m.\u001b[0m\u001b[0mtransform_cell\u001b[0m\u001b[0;34m(\u001b[0m\u001b[0mcell\u001b[0m\u001b[0;34m.\u001b[0m\u001b[0minput\u001b[0m\u001b[0;34m)\u001b[0m\u001b[0;34m\u001b[0m\u001b[0m\n\u001b[0m\u001b[1;32m     62\u001b[0m                     \u001b[0;31m# run the code in themodule\u001b[0m\u001b[0;34m\u001b[0m\u001b[0;34m\u001b[0m\u001b[0m\n\u001b[1;32m     63\u001b[0m                     \u001b[0;32mexec\u001b[0m\u001b[0;34m(\u001b[0m\u001b[0mcode\u001b[0m\u001b[0;34m,\u001b[0m \u001b[0mmod\u001b[0m\u001b[0;34m.\u001b[0m\u001b[0m__dict__\u001b[0m\u001b[0;34m)\u001b[0m\u001b[0;34m\u001b[0m\u001b[0m\n",
      "\u001b[0;32m/Users/courtneycochrane/anaconda/envs/py27/lib/python2.7/site-packages/IPython/core/inputsplitter.pyc\u001b[0m in \u001b[0;36mtransform_cell\u001b[0;34m(self, cell)\u001b[0m\n\u001b[1;32m    595\u001b[0m         \u001b[0mself\u001b[0m\u001b[0;34m.\u001b[0m\u001b[0mreset\u001b[0m\u001b[0;34m(\u001b[0m\u001b[0;34m)\u001b[0m\u001b[0;34m\u001b[0m\u001b[0m\n\u001b[1;32m    596\u001b[0m         \u001b[0;32mtry\u001b[0m\u001b[0;34m:\u001b[0m\u001b[0;34m\u001b[0m\u001b[0m\n\u001b[0;32m--> 597\u001b[0;31m             \u001b[0mself\u001b[0m\u001b[0;34m.\u001b[0m\u001b[0mpush\u001b[0m\u001b[0;34m(\u001b[0m\u001b[0mcell\u001b[0m\u001b[0;34m)\u001b[0m\u001b[0;34m\u001b[0m\u001b[0m\n\u001b[0m\u001b[1;32m    598\u001b[0m             \u001b[0mself\u001b[0m\u001b[0;34m.\u001b[0m\u001b[0mflush_transformers\u001b[0m\u001b[0;34m(\u001b[0m\u001b[0;34m)\u001b[0m\u001b[0;34m\u001b[0m\u001b[0m\n\u001b[1;32m    599\u001b[0m             \u001b[0;32mreturn\u001b[0m \u001b[0mself\u001b[0m\u001b[0;34m.\u001b[0m\u001b[0msource\u001b[0m\u001b[0;34m\u001b[0m\u001b[0m\n",
      "\u001b[0;32m/Users/courtneycochrane/anaconda/envs/py27/lib/python2.7/site-packages/IPython/core/inputsplitter.pyc\u001b[0m in \u001b[0;36mpush\u001b[0;34m(self, lines)\u001b[0m\n\u001b[1;32m    639\u001b[0m \u001b[0;34m\u001b[0m\u001b[0m\n\u001b[1;32m    640\u001b[0m         \u001b[0;32mfor\u001b[0m \u001b[0mline\u001b[0m \u001b[0;32min\u001b[0m \u001b[0mlines_list\u001b[0m\u001b[0;34m:\u001b[0m\u001b[0;34m\u001b[0m\u001b[0m\n\u001b[0;32m--> 641\u001b[0;31m             \u001b[0mout\u001b[0m \u001b[0;34m=\u001b[0m \u001b[0mself\u001b[0m\u001b[0;34m.\u001b[0m\u001b[0mpush_line\u001b[0m\u001b[0;34m(\u001b[0m\u001b[0mline\u001b[0m\u001b[0;34m)\u001b[0m\u001b[0;34m\u001b[0m\u001b[0m\n\u001b[0m\u001b[1;32m    642\u001b[0m \u001b[0;34m\u001b[0m\u001b[0m\n\u001b[1;32m    643\u001b[0m         \u001b[0;32mreturn\u001b[0m \u001b[0mout\u001b[0m\u001b[0;34m\u001b[0m\u001b[0m\n",
      "\u001b[0;32m/Users/courtneycochrane/anaconda/envs/py27/lib/python2.7/site-packages/IPython/core/inputsplitter.pyc\u001b[0m in \u001b[0;36mpush_line\u001b[0;34m(self, line)\u001b[0m\n\u001b[1;32m    680\u001b[0m         \u001b[0;31m#print(\"transformers clear\") #debug\u001b[0m\u001b[0;34m\u001b[0m\u001b[0;34m\u001b[0m\u001b[0m\n\u001b[1;32m    681\u001b[0m         \u001b[0mself\u001b[0m\u001b[0;34m.\u001b[0m\u001b[0mtransformer_accumulating\u001b[0m \u001b[0;34m=\u001b[0m \u001b[0mFalse\u001b[0m\u001b[0;34m\u001b[0m\u001b[0m\n\u001b[0;32m--> 682\u001b[0;31m         \u001b[0;32mreturn\u001b[0m \u001b[0msuper\u001b[0m\u001b[0;34m(\u001b[0m\u001b[0mIPythonInputSplitter\u001b[0m\u001b[0;34m,\u001b[0m \u001b[0mself\u001b[0m\u001b[0;34m)\u001b[0m\u001b[0;34m.\u001b[0m\u001b[0mpush\u001b[0m\u001b[0;34m(\u001b[0m\u001b[0mline\u001b[0m\u001b[0;34m)\u001b[0m\u001b[0;34m\u001b[0m\u001b[0m\n\u001b[0m",
      "\u001b[0;32m/Users/courtneycochrane/anaconda/envs/py27/lib/python2.7/site-packages/IPython/core/inputsplitter.pyc\u001b[0m in \u001b[0;36mpush\u001b[0;34m(self, lines)\u001b[0m\n\u001b[1;32m    312\u001b[0m             \u001b[0;32mwith\u001b[0m \u001b[0mwarnings\u001b[0m\u001b[0;34m.\u001b[0m\u001b[0mcatch_warnings\u001b[0m\u001b[0;34m(\u001b[0m\u001b[0;34m)\u001b[0m\u001b[0;34m:\u001b[0m\u001b[0;34m\u001b[0m\u001b[0m\n\u001b[1;32m    313\u001b[0m                 \u001b[0mwarnings\u001b[0m\u001b[0;34m.\u001b[0m\u001b[0msimplefilter\u001b[0m\u001b[0;34m(\u001b[0m\u001b[0;34m'error'\u001b[0m\u001b[0;34m,\u001b[0m \u001b[0mSyntaxWarning\u001b[0m\u001b[0;34m)\u001b[0m\u001b[0;34m\u001b[0m\u001b[0m\n\u001b[0;32m--> 314\u001b[0;31m                 \u001b[0mself\u001b[0m\u001b[0;34m.\u001b[0m\u001b[0mcode\u001b[0m \u001b[0;34m=\u001b[0m \u001b[0mself\u001b[0m\u001b[0;34m.\u001b[0m\u001b[0m_compile\u001b[0m\u001b[0;34m(\u001b[0m\u001b[0msource\u001b[0m\u001b[0;34m,\u001b[0m \u001b[0msymbol\u001b[0m\u001b[0;34m=\u001b[0m\u001b[0;34m\"exec\"\u001b[0m\u001b[0;34m)\u001b[0m\u001b[0;34m\u001b[0m\u001b[0m\n\u001b[0m\u001b[1;32m    315\u001b[0m         \u001b[0;31m# Invalid syntax can produce any of a number of different errors from\u001b[0m\u001b[0;34m\u001b[0m\u001b[0;34m\u001b[0m\u001b[0m\n\u001b[1;32m    316\u001b[0m         \u001b[0;31m# inside the compiler, so we have to catch them all.  Syntax errors\u001b[0m\u001b[0;34m\u001b[0m\u001b[0;34m\u001b[0m\u001b[0m\n",
      "\u001b[0;32m/Users/courtneycochrane/anaconda/envs/py27/lib/python2.7/codeop.pyc\u001b[0m in \u001b[0;36m__call__\u001b[0;34m(self, source, filename, symbol)\u001b[0m\n\u001b[1;32m    166\u001b[0m           malformed literals).\n\u001b[1;32m    167\u001b[0m         \"\"\"\n\u001b[0;32m--> 168\u001b[0;31m         \u001b[0;32mreturn\u001b[0m \u001b[0m_maybe_compile\u001b[0m\u001b[0;34m(\u001b[0m\u001b[0mself\u001b[0m\u001b[0;34m.\u001b[0m\u001b[0mcompiler\u001b[0m\u001b[0;34m,\u001b[0m \u001b[0msource\u001b[0m\u001b[0;34m,\u001b[0m \u001b[0mfilename\u001b[0m\u001b[0;34m,\u001b[0m \u001b[0msymbol\u001b[0m\u001b[0;34m)\u001b[0m\u001b[0;34m\u001b[0m\u001b[0m\n\u001b[0m",
      "\u001b[0;32m/Users/courtneycochrane/anaconda/envs/py27/lib/python2.7/codeop.pyc\u001b[0m in \u001b[0;36m_maybe_compile\u001b[0;34m(compiler, source, filename, symbol)\u001b[0m\n\u001b[1;32m     90\u001b[0m \u001b[0;34m\u001b[0m\u001b[0m\n\u001b[1;32m     91\u001b[0m     \u001b[0;32mtry\u001b[0m\u001b[0;34m:\u001b[0m\u001b[0;34m\u001b[0m\u001b[0m\n\u001b[0;32m---> 92\u001b[0;31m         \u001b[0mcode2\u001b[0m \u001b[0;34m=\u001b[0m \u001b[0mcompiler\u001b[0m\u001b[0;34m(\u001b[0m\u001b[0msource\u001b[0m \u001b[0;34m+\u001b[0m \u001b[0;34m\"\\n\\n\"\u001b[0m\u001b[0;34m,\u001b[0m \u001b[0mfilename\u001b[0m\u001b[0;34m,\u001b[0m \u001b[0msymbol\u001b[0m\u001b[0;34m)\u001b[0m\u001b[0;34m\u001b[0m\u001b[0m\n\u001b[0m\u001b[1;32m     93\u001b[0m     \u001b[0;32mexcept\u001b[0m \u001b[0mSyntaxError\u001b[0m\u001b[0;34m,\u001b[0m \u001b[0merr2\u001b[0m\u001b[0;34m:\u001b[0m\u001b[0;34m\u001b[0m\u001b[0m\n\u001b[1;32m     94\u001b[0m         \u001b[0;32mpass\u001b[0m\u001b[0;34m\u001b[0m\u001b[0m\n",
      "\u001b[0;32m/Users/courtneycochrane/anaconda/envs/py27/lib/python2.7/codeop.pyc\u001b[0m in \u001b[0;36m__call__\u001b[0;34m(self, source, filename, symbol)\u001b[0m\n\u001b[1;32m    131\u001b[0m \u001b[0;34m\u001b[0m\u001b[0m\n\u001b[1;32m    132\u001b[0m     \u001b[0;32mdef\u001b[0m \u001b[0m__call__\u001b[0m\u001b[0;34m(\u001b[0m\u001b[0mself\u001b[0m\u001b[0;34m,\u001b[0m \u001b[0msource\u001b[0m\u001b[0;34m,\u001b[0m \u001b[0mfilename\u001b[0m\u001b[0;34m,\u001b[0m \u001b[0msymbol\u001b[0m\u001b[0;34m)\u001b[0m\u001b[0;34m:\u001b[0m\u001b[0;34m\u001b[0m\u001b[0m\n\u001b[0;32m--> 133\u001b[0;31m         \u001b[0mcodeob\u001b[0m \u001b[0;34m=\u001b[0m \u001b[0mcompile\u001b[0m\u001b[0;34m(\u001b[0m\u001b[0msource\u001b[0m\u001b[0;34m,\u001b[0m \u001b[0mfilename\u001b[0m\u001b[0;34m,\u001b[0m \u001b[0msymbol\u001b[0m\u001b[0;34m,\u001b[0m \u001b[0mself\u001b[0m\u001b[0;34m.\u001b[0m\u001b[0mflags\u001b[0m\u001b[0;34m,\u001b[0m \u001b[0;36m1\u001b[0m\u001b[0;34m)\u001b[0m\u001b[0;34m\u001b[0m\u001b[0m\n\u001b[0m\u001b[1;32m    134\u001b[0m         \u001b[0;32mfor\u001b[0m \u001b[0mfeature\u001b[0m \u001b[0;32min\u001b[0m \u001b[0m_features\u001b[0m\u001b[0;34m:\u001b[0m\u001b[0;34m\u001b[0m\u001b[0m\n\u001b[1;32m    135\u001b[0m             \u001b[0;32mif\u001b[0m \u001b[0mcodeob\u001b[0m\u001b[0;34m.\u001b[0m\u001b[0mco_flags\u001b[0m \u001b[0;34m&\u001b[0m \u001b[0mfeature\u001b[0m\u001b[0;34m.\u001b[0m\u001b[0mcompiler_flag\u001b[0m\u001b[0;34m:\u001b[0m\u001b[0;34m\u001b[0m\u001b[0m\n",
      "\u001b[0;31mKeyboardInterrupt\u001b[0m: "
=======
     "name": "stdout",
     "output_type": "stream",
     "text": [
      "importing Jupyter notebook from SupervisedLearning.ipynb\n",
      "importing Jupyter notebook from ModelPerformance.ipynb\n",
      "importing Jupyter notebook from TrainTestSplit.ipynb\n"
>>>>>>> 492e195c983c432cc4b2098f69bc5014a60c6fbf
     ]
    }
   ],
   "source": [
    "import scipy\n",
    "import numpy\n",
    "import pandas\n",
    "import csv\n",
    "import MergeDiagnosis_AdjustedLabels\n",
    "import Categorical_Updated\n",
    "import LongitudinalDataAnalysis\n",
    "import Imputation\n",
    "import FeatureReduction\n",
    "import SupervisedLearning\n",
    "import ModelPerformance\n",
    "import TrainTestSplit"
   ]
  },
  {
   "cell_type": "code",
   "execution_count": 3,
   "metadata": {
    "collapsed": false
   },
   "outputs": [],
   "source": [
    "# -------------------------------\n",
    "# Merge Data\n",
    "# -------------------------------\n",
    "merged_data = MergeDiagnosis_AdjustedLabels.data_preprocess(study = \"all\",imaging_to_drop = 'all', reversions = 'label0')"
   ]
  },
  {
   "cell_type": "code",
   "execution_count": 4,
   "metadata": {
    "collapsed": false
   },
   "outputs": [
    {
     "name": "stdout",
     "output_type": "stream",
     "text": [
      "Columsn that are one-hot encoded\n",
      "-------------------------------------\n",
      "['VISCODE', 'COLPROT', 'ORIGPROT', 'DX_bl', 'PTGENDER', 'PTETHCAT', 'PTRACCAT', 'PTMARRY']\n"
     ]
    }
   ],
   "source": [
    "# -------------------------------\n",
    "# Categorical to Numerical\n",
    "# -------------------------------\n",
    "date_cols = ['update_stamp','EXAMDATE','EXAMDATE_bl']\n",
    "cols_to_ignore = ['PTID']\n",
    "\n",
    "Categorical_Updated.categorical_conversion(date_cols,cols_to_ignore)\n"
   ]
  },
  {
   "cell_type": "code",
   "execution_count": 5,
   "metadata": {
    "collapsed": false,
    "scrolled": true
   },
   "outputs": [
    {
     "data": {
      "text/html": [
       "<div>\n",
       "<table border=\"1\" class=\"dataframe\">\n",
       "  <thead>\n",
       "    <tr style=\"text-align: right;\">\n",
       "      <th></th>\n",
       "      <th>Unnamed: 0</th>\n",
       "      <th>RID</th>\n",
       "      <th>SITE</th>\n",
       "      <th>AGE</th>\n",
       "      <th>PTEDUCAT</th>\n",
       "      <th>APOE4</th>\n",
       "      <th>CDRSB</th>\n",
       "      <th>ADAS11</th>\n",
       "      <th>ADAS13</th>\n",
       "      <th>MMSE</th>\n",
       "      <th>...</th>\n",
       "      <th>PTRACCAT_Black</th>\n",
       "      <th>PTRACCAT_Hawaiian/Other PI</th>\n",
       "      <th>PTRACCAT_More than one</th>\n",
       "      <th>PTRACCAT_Unknown</th>\n",
       "      <th>PTRACCAT_White</th>\n",
       "      <th>PTMARRY_Married</th>\n",
       "      <th>PTMARRY_Never married</th>\n",
       "      <th>PTMARRY_Unknown</th>\n",
       "      <th>PTMARRY_Widowed</th>\n",
       "      <th>AD</th>\n",
       "    </tr>\n",
       "  </thead>\n",
       "  <tbody>\n",
       "    <tr>\n",
       "      <th>0</th>\n",
       "      <td>0</td>\n",
       "      <td>2</td>\n",
       "      <td>11</td>\n",
       "      <td>74.3</td>\n",
       "      <td>16</td>\n",
       "      <td>0.0</td>\n",
       "      <td>0.0</td>\n",
       "      <td>10.67</td>\n",
       "      <td>18.67</td>\n",
       "      <td>28.0</td>\n",
       "      <td>...</td>\n",
       "      <td>0.0</td>\n",
       "      <td>0.0</td>\n",
       "      <td>0.0</td>\n",
       "      <td>0.0</td>\n",
       "      <td>1.0</td>\n",
       "      <td>1.0</td>\n",
       "      <td>0.0</td>\n",
       "      <td>0.0</td>\n",
       "      <td>0.0</td>\n",
       "      <td>0</td>\n",
       "    </tr>\n",
       "    <tr>\n",
       "      <th>1</th>\n",
       "      <td>1</td>\n",
       "      <td>3</td>\n",
       "      <td>11</td>\n",
       "      <td>81.3</td>\n",
       "      <td>18</td>\n",
       "      <td>1.0</td>\n",
       "      <td>4.5</td>\n",
       "      <td>22.00</td>\n",
       "      <td>31.00</td>\n",
       "      <td>20.0</td>\n",
       "      <td>...</td>\n",
       "      <td>0.0</td>\n",
       "      <td>0.0</td>\n",
       "      <td>0.0</td>\n",
       "      <td>0.0</td>\n",
       "      <td>1.0</td>\n",
       "      <td>1.0</td>\n",
       "      <td>0.0</td>\n",
       "      <td>0.0</td>\n",
       "      <td>0.0</td>\n",
       "      <td>1</td>\n",
       "    </tr>\n",
       "    <tr>\n",
       "      <th>2</th>\n",
       "      <td>2</td>\n",
       "      <td>3</td>\n",
       "      <td>11</td>\n",
       "      <td>81.3</td>\n",
       "      <td>18</td>\n",
       "      <td>1.0</td>\n",
       "      <td>6.0</td>\n",
       "      <td>19.00</td>\n",
       "      <td>30.00</td>\n",
       "      <td>24.0</td>\n",
       "      <td>...</td>\n",
       "      <td>0.0</td>\n",
       "      <td>0.0</td>\n",
       "      <td>0.0</td>\n",
       "      <td>0.0</td>\n",
       "      <td>1.0</td>\n",
       "      <td>1.0</td>\n",
       "      <td>0.0</td>\n",
       "      <td>0.0</td>\n",
       "      <td>0.0</td>\n",
       "      <td>1</td>\n",
       "    </tr>\n",
       "  </tbody>\n",
       "</table>\n",
       "<p>3 rows × 104 columns</p>\n",
       "</div>"
      ],
      "text/plain": [
       "   Unnamed: 0  RID  SITE   AGE  PTEDUCAT  APOE4  CDRSB  ADAS11  ADAS13  MMSE  \\\n",
       "0           0    2    11  74.3        16    0.0    0.0   10.67   18.67  28.0   \n",
       "1           1    3    11  81.3        18    1.0    4.5   22.00   31.00  20.0   \n",
       "2           2    3    11  81.3        18    1.0    6.0   19.00   30.00  24.0   \n",
       "\n",
       "  ...  PTRACCAT_Black  PTRACCAT_Hawaiian/Other PI  PTRACCAT_More than one  \\\n",
       "0 ...             0.0                         0.0                     0.0   \n",
       "1 ...             0.0                         0.0                     0.0   \n",
       "2 ...             0.0                         0.0                     0.0   \n",
       "\n",
       "   PTRACCAT_Unknown  PTRACCAT_White  PTMARRY_Married  PTMARRY_Never married  \\\n",
       "0               0.0             1.0              1.0                    0.0   \n",
       "1               0.0             1.0              1.0                    0.0   \n",
       "2               0.0             1.0              1.0                    0.0   \n",
       "\n",
       "   PTMARRY_Unknown  PTMARRY_Widowed  AD  \n",
       "0              0.0              0.0   0  \n",
       "1              0.0              0.0   1  \n",
       "2              0.0              0.0   1  \n",
       "\n",
       "[3 rows x 104 columns]"
      ]
     },
     "metadata": {},
     "output_type": "display_data"
    },
    {
     "name": "stdout",
     "output_type": "stream",
     "text": [
      "Input Matrix Size:\n",
      "-----------------------\n",
      "(12736, 104)\n",
      " \n",
      "Identified columns of interest in input file: \n",
      "------------------------------------------------------------------------------------------------------------------------\n",
      "Patient RID column: [1]\n",
      "Demo columns: [  3   4  90  91  92  93  94  95  96  97  98  99 100 101 102]\n",
      "BaselineOneTime columns: [ 5 54 84 85]\n",
      "BaselineEvaluation columns: [30 31 32 33 35 36 37 34 38 39 41 42 43 44 45 40 46 48 49 50 51 52 47 53]\n",
      "Time columns: [ 2 56 57 58 59 60 82 83 55]\n",
      "CurrentEvaluation columns: [ 6  7  8  9 11 12 13 10 14 15 17 18 19 20 21 16 22 24 25 26 27 28 23 29]\n",
      "CurrentDiagnosis columns: [103]\n",
      "------\n",
      "Method 2 for Longitudinal Data Analysis\n",
      "------\n",
      " \n",
      "New Input Matrix Size:\n",
      "-----------------------\n",
<<<<<<< HEAD
      "(1737, 115)\n",
=======
      "(1737L, 119L)\n",
>>>>>>> 492e195c983c432cc4b2098f69bc5014a60c6fbf
      " \n",
      "New Output Matrix Size:\n",
      "-----------------------\n",
      "(1737,)\n"
     ]
    }
   ],
   "source": [
    "# -------------------------------\n",
    "# Longitudinal Data Analysis\n",
    "# -------------------------------\n",
    "\n",
    "# Input file name for Longitudinal Data Analysis\n",
    "InputToLongitudinal='CategoricalToNumerical.csv'\n",
    "\n",
    "with open(InputToLongitudinal) as csvfile:\n",
    "    reader = csv.reader(csvfile, delimiter=',')\n",
    "    labels = next(reader)\n",
    "\n",
    "# Output file name from this script\n",
    "OutputFromLongitudinal='LongitudinalDataAnalysis.csv'\n",
    "\n",
    "# Patient RID Features\n",
    "Patient_FEATURES=['RID'];\n",
    "\n",
    "# Demographic Features\n",
    "Demo_FEATURES_type=['AGE','PTEDUCAT','PTGENDER','PTETHCAT','PTRACCAT','PTMARRY']\n",
    "Demo_FEATURES = []\n",
    "for i in labels:\n",
    "    if i in Demo_FEATURES_type:\n",
    "        Demo_FEATURES.append(i)\n",
    "    elif i.find(\"_\") != -1 and i[:i.find(\"_\")] in Demo_FEATURES_type:\n",
    "        Demo_FEATURES.append(i)\n",
    "    \n",
    "# Baseline OneTime Features\n",
    "BaselineOneTime_FEATURES_type = ['APOE4','Years_bl','ORIGPROT']\n",
    "BaselineOneTime_FEATURES = []\n",
    "for i in labels:\n",
    "    if i in BaselineOneTime_FEATURES_type:\n",
    "        BaselineOneTime_FEATURES.append(i)\n",
    "    elif i.rfind(\"_\") != -1 and i[:i.rfind(\"_\")] in BaselineOneTime_FEATURES_type:\n",
    "        BaselineOneTime_FEATURES.append(i)\n",
    "        \n",
    "# Time Headers\n",
    "Time_FEATURES_type=['SITE','Month','update_stamp_minus_EXAMDATE_bl','update_stamp_minus_EXAMDATE','EXAMDATE_minus_EXAMDATE_bl',\n",
    "               'COLPROT','M','Month_bl']\n",
    "Time_FEATURES = []\n",
    "for i in labels:\n",
    "    if i in Time_FEATURES_type:\n",
    "        Time_FEATURES.append(i)\n",
    "    elif i.find(\"_\") != -1 and i[:i.find(\"_\")] in Time_FEATURES_type:\n",
    "        Time_FEATURES.append(i)\n",
    "Time_FEATURES.insert(len(Time_FEATURES), Time_FEATURES.pop(Time_FEATURES.index('Month_bl'))) # Month_bl must be last feature in this list\n",
    "\n",
    "        \n",
    "# Baseline Evaluation Features\n",
    "BaselineEvaluation_FEATURES=['CDRSB_bl','ADAS11_bl','ADAS13_bl','MMSE_bl','RAVLT_learning_bl','RAVLT_forgetting_bl',\n",
    "                             'RAVLT_perc_forgetting_bl','RAVLT_immediate_bl','FAQ_bl','MOCA_bl','EcogPtLang_bl','EcogPtVisspat_bl',\n",
    "                             'EcogPtPlan_bl','EcogPtOrgan_bl','EcogPtDivatt_bl','EcogPtMem_bl','EcogPtTotal_bl','EcogSPLang_bl',\n",
    "                             'EcogSPVisspat_bl','EcogSPPlan_bl','EcogSPOrgan_bl','EcogSPDivatt_bl','EcogSPMem_bl','EcogSPTotal_bl'];\n",
    "\n",
    "\n",
    "   \n",
    "# Current Medical Evaluation\n",
    "CurrentEvaluation_FEATURES=['CDRSB','ADAS11','ADAS13','MMSE','RAVLT_learning','RAVLT_forgetting','RAVLT_perc_forgetting','RAVLT_immediate',\n",
    "                            'FAQ','MOCA','EcogPtLang','EcogPtVisspat','EcogPtPlan','EcogPtOrgan','EcogPtDivatt','EcogPtMem','EcogPtTotal',\n",
    "                            'EcogSPLang','EcogSPVisspat','EcogSPPlan','EcogSPOrgan','EcogSPDivatt','EcogSPMem','EcogSPTotal'];\n",
    "\n",
    "\n",
    "# Current Diagnosis\n",
    "CurrentDiagnosis_FEATURES= ['AD'];\n",
    "\n",
    "# Longitudinal Method\n",
    "LongitudinalMethod=2;\n",
    "MetricList=['MaxTime','Delta','Mean','Std'];\n",
    "\n",
    "# Run Longitudinal Data Anaysis\n",
    "LongitudinalDataAnalysis.runLongitudinal(InputToLongitudinal,OutputFromLongitudinal,Patient_FEATURES,Demo_FEATURES,\\\n",
    "                                         BaselineOneTime_FEATURES,Time_FEATURES,BaselineEvaluation_FEATURES,\\\n",
    "                                         CurrentEvaluation_FEATURES,CurrentDiagnosis_FEATURES,LongitudinalMethod,MetricList)\n",
    "\n",
    "\n"
   ]
  },
  {
   "cell_type": "code",
<<<<<<< HEAD
   "execution_count": 9,
=======
   "execution_count": 6,
>>>>>>> 492e195c983c432cc4b2098f69bc5014a60c6fbf
   "metadata": {
    "collapsed": true
   },
   "outputs": [],
   "source": [
    "# ------------------\n",
    "# Train Test Split\n",
    "# ------------------\n",
    "TrainTestSplit.traintest_split(0.33)"
   ]
  },
  {
   "cell_type": "code",
<<<<<<< HEAD
   "execution_count": 10,
=======
   "execution_count": 7,
>>>>>>> 492e195c983c432cc4b2098f69bc5014a60c6fbf
   "metadata": {
    "collapsed": false
   },
   "outputs": [],
   "source": [
    "# ------------------\n",
    "# Imputation\n",
    "# ------------------\n",
    "#Imputation.imputation('knn')\n",
    "Imputation.imputation('meanmode')\n",
    "#Imputation.imputation('nuclearnorm')\n",
    "#Imputation.imputation('softimpute')"
   ]
  },
  {
   "cell_type": "code",
<<<<<<< HEAD
   "execution_count": 11,
=======
   "execution_count": 8,
>>>>>>> 492e195c983c432cc4b2098f69bc5014a60c6fbf
   "metadata": {
    "collapsed": false
   },
   "outputs": [
    {
     "data": {
      "text/html": [
       "<div>\n",
       "<table border=\"1\" class=\"dataframe\">\n",
       "  <thead>\n",
       "    <tr style=\"text-align: right;\">\n",
       "      <th></th>\n",
       "      <th># AGE</th>\n",
       "      <th>PTEDUCAT</th>\n",
       "      <th>PTGENDER_Male</th>\n",
       "      <th>PTETHCAT_Not Hisp/Latino</th>\n",
       "      <th>PTETHCAT_Unknown</th>\n",
       "      <th>PTRACCAT_Asian</th>\n",
       "      <th>PTRACCAT_Black</th>\n",
       "      <th>PTRACCAT_Hawaiian/Other PI</th>\n",
       "      <th>PTRACCAT_More than one</th>\n",
       "      <th>PTRACCAT_Unknown</th>\n",
       "      <th>...</th>\n",
       "      <th>EcogSPDivatt_Std</th>\n",
       "      <th>EcogSPMem_MaxTime</th>\n",
       "      <th>EcogSPMem_Delta</th>\n",
       "      <th>EcogSPMem_Mean</th>\n",
       "      <th>EcogSPMem_Std</th>\n",
       "      <th>EcogSPTotal_MaxTime</th>\n",
       "      <th>EcogSPTotal_Delta</th>\n",
       "      <th>EcogSPTotal_Mean</th>\n",
       "      <th>EcogSPTotal_Std</th>\n",
       "      <th>Diagnostics</th>\n",
       "    </tr>\n",
       "  </thead>\n",
       "  <tbody>\n",
       "    <tr>\n",
       "      <th>0</th>\n",
<<<<<<< HEAD
       "      <td>84.7</td>\n",
       "      <td>15.0</td>\n",
       "      <td>0.0</td>\n",
=======
       "      <td>62.5</td>\n",
       "      <td>18.0</td>\n",
       "      <td>1.0</td>\n",
>>>>>>> 492e195c983c432cc4b2098f69bc5014a60c6fbf
       "      <td>1.0</td>\n",
       "      <td>0.0</td>\n",
       "      <td>0.0</td>\n",
       "      <td>1.0</td>\n",
       "      <td>0.0</td>\n",
       "      <td>0.0</td>\n",
       "      <td>0.0</td>\n",
       "      <td>0.0</td>\n",
       "      <td>...</td>\n",
<<<<<<< HEAD
       "      <td>0.292155</td>\n",
       "      <td>47.568787</td>\n",
       "      <td>0.136681</td>\n",
       "      <td>2.212264</td>\n",
       "      <td>0.255054</td>\n",
       "      <td>47.593345</td>\n",
       "      <td>0.208163</td>\n",
       "      <td>1.906405</td>\n",
       "      <td>0.199563</td>\n",
=======
       "      <td>0.435890</td>\n",
       "      <td>36.2623</td>\n",
       "      <td>-0.250000</td>\n",
       "      <td>1.37500</td>\n",
       "      <td>0.111803</td>\n",
       "      <td>36.2623</td>\n",
       "      <td>0.076920</td>\n",
       "      <td>1.179490</td>\n",
       "      <td>0.042904</td>\n",
>>>>>>> 492e195c983c432cc4b2098f69bc5014a60c6fbf
       "      <td>0.0</td>\n",
       "    </tr>\n",
       "    <tr>\n",
       "      <th>1</th>\n",
<<<<<<< HEAD
       "      <td>88.1</td>\n",
       "      <td>14.0</td>\n",
=======
       "      <td>73.4</td>\n",
       "      <td>16.0</td>\n",
>>>>>>> 492e195c983c432cc4b2098f69bc5014a60c6fbf
       "      <td>0.0</td>\n",
       "      <td>1.0</td>\n",
       "      <td>0.0</td>\n",
       "      <td>0.0</td>\n",
       "      <td>1.0</td>\n",
       "      <td>0.0</td>\n",
       "      <td>0.0</td>\n",
       "      <td>0.0</td>\n",
       "      <td>0.0</td>\n",
       "      <td>...</td>\n",
<<<<<<< HEAD
       "      <td>0.000000</td>\n",
       "      <td>0.000000</td>\n",
       "      <td>0.000000</td>\n",
       "      <td>2.000000</td>\n",
       "      <td>0.000000</td>\n",
       "      <td>0.000000</td>\n",
       "      <td>0.000000</td>\n",
       "      <td>1.305560</td>\n",
       "      <td>0.000000</td>\n",
=======
       "      <td>0.108253</td>\n",
       "      <td>107.8360</td>\n",
       "      <td>0.138635</td>\n",
       "      <td>1.40625</td>\n",
       "      <td>0.054127</td>\n",
       "      <td>107.8360</td>\n",
       "      <td>0.205664</td>\n",
       "      <td>1.145433</td>\n",
       "      <td>0.008521</td>\n",
>>>>>>> 492e195c983c432cc4b2098f69bc5014a60c6fbf
       "      <td>0.0</td>\n",
       "    </tr>\n",
       "    <tr>\n",
       "      <th>2</th>\n",
<<<<<<< HEAD
       "      <td>74.7</td>\n",
       "      <td>16.0</td>\n",
       "      <td>1.0</td>\n",
=======
       "      <td>82.6</td>\n",
       "      <td>16.0</td>\n",
       "      <td>0.0</td>\n",
>>>>>>> 492e195c983c432cc4b2098f69bc5014a60c6fbf
       "      <td>1.0</td>\n",
       "      <td>0.0</td>\n",
       "      <td>0.0</td>\n",
       "      <td>0.0</td>\n",
       "      <td>0.0</td>\n",
       "      <td>0.0</td>\n",
       "      <td>0.0</td>\n",
       "      <td>...</td>\n",
<<<<<<< HEAD
       "      <td>0.292155</td>\n",
       "      <td>47.568787</td>\n",
       "      <td>0.136681</td>\n",
       "      <td>2.212264</td>\n",
       "      <td>0.255054</td>\n",
       "      <td>47.593345</td>\n",
       "      <td>0.208163</td>\n",
       "      <td>1.906405</td>\n",
       "      <td>0.199563</td>\n",
       "      <td>1.0</td>\n",
       "    </tr>\n",
       "  </tbody>\n",
       "</table>\n",
       "<p>3 rows × 114 columns</p>\n",
=======
       "      <td>0.000000</td>\n",
       "      <td>0.0000</td>\n",
       "      <td>0.000000</td>\n",
       "      <td>1.75000</td>\n",
       "      <td>0.000000</td>\n",
       "      <td>0.0000</td>\n",
       "      <td>0.000000</td>\n",
       "      <td>1.256410</td>\n",
       "      <td>0.000000</td>\n",
       "      <td>0.0</td>\n",
       "    </tr>\n",
       "  </tbody>\n",
       "</table>\n",
       "<p>3 rows × 120 columns</p>\n",
>>>>>>> 492e195c983c432cc4b2098f69bc5014a60c6fbf
       "</div>"
      ],
      "text/plain": [
       "   # AGE  PTEDUCAT  PTGENDER_Male  PTETHCAT_Not Hisp/Latino  PTETHCAT_Unknown  \\\n",
<<<<<<< HEAD
       "0   84.7      15.0            0.0                       1.0               0.0   \n",
       "1   88.1      14.0            0.0                       1.0               0.0   \n",
       "2   74.7      16.0            1.0                       1.0               0.0   \n",
       "\n",
       "   PTRACCAT_Asian  PTRACCAT_Black  PTRACCAT_Hawaiian/Other PI  \\\n",
       "0             0.0             1.0                         0.0   \n",
       "1             0.0             0.0                         0.0   \n",
       "2             0.0             0.0                         0.0   \n",
       "\n",
       "   PTRACCAT_More than one  PTRACCAT_Unknown     ...       EcogSPDivatt_Std  \\\n",
       "0                     0.0               0.0     ...               0.292155   \n",
       "1                     0.0               0.0     ...               0.000000   \n",
       "2                     0.0               0.0     ...               0.292155   \n",
       "\n",
       "   EcogSPMem_MaxTime  EcogSPMem_Delta  EcogSPMem_Mean  EcogSPMem_Std  \\\n",
       "0          47.568787         0.136681        2.212264       0.255054   \n",
       "1           0.000000         0.000000        2.000000       0.000000   \n",
       "2          47.568787         0.136681        2.212264       0.255054   \n",
       "\n",
       "   EcogSPTotal_MaxTime  EcogSPTotal_Delta  EcogSPTotal_Mean  EcogSPTotal_Std  \\\n",
       "0            47.593345           0.208163          1.906405         0.199563   \n",
       "1             0.000000           0.000000          1.305560         0.000000   \n",
       "2            47.593345           0.208163          1.906405         0.199563   \n",
=======
       "0   62.5      18.0            1.0                       1.0               0.0   \n",
       "1   73.4      16.0            0.0                       1.0               0.0   \n",
       "2   82.6      16.0            0.0                       1.0               0.0   \n",
       "\n",
       "   PTRACCAT_Asian  PTRACCAT_Black  PTRACCAT_Hawaiian/Other PI  \\\n",
       "0             0.0             0.0                         0.0   \n",
       "1             0.0             1.0                         0.0   \n",
       "2             0.0             0.0                         0.0   \n",
       "\n",
       "   PTRACCAT_More than one  PTRACCAT_Unknown     ...       EcogSPDivatt_Std  \\\n",
       "0                     0.0               0.0     ...               0.435890   \n",
       "1                     0.0               0.0     ...               0.108253   \n",
       "2                     0.0               0.0     ...               0.000000   \n",
       "\n",
       "   EcogSPMem_MaxTime  EcogSPMem_Delta  EcogSPMem_Mean  EcogSPMem_Std  \\\n",
       "0            36.2623        -0.250000         1.37500       0.111803   \n",
       "1           107.8360         0.138635         1.40625       0.054127   \n",
       "2             0.0000         0.000000         1.75000       0.000000   \n",
       "\n",
       "   EcogSPTotal_MaxTime  EcogSPTotal_Delta  EcogSPTotal_Mean  EcogSPTotal_Std  \\\n",
       "0              36.2623           0.076920          1.179490         0.042904   \n",
       "1             107.8360           0.205664          1.145433         0.008521   \n",
       "2               0.0000           0.000000          1.256410         0.000000   \n",
>>>>>>> 492e195c983c432cc4b2098f69bc5014a60c6fbf
       "\n",
       "   Diagnostics  \n",
       "0          0.0  \n",
       "1          0.0  \n",
<<<<<<< HEAD
       "2          1.0  \n",
       "\n",
       "[3 rows x 114 columns]"
=======
       "2          0.0  \n",
       "\n",
       "[3 rows x 120 columns]"
>>>>>>> 492e195c983c432cc4b2098f69bc5014a60c6fbf
      ]
     },
     "metadata": {},
     "output_type": "display_data"
    },
    {
     "data": {
      "text/html": [
       "<div>\n",
       "<table border=\"1\" class=\"dataframe\">\n",
       "  <thead>\n",
       "    <tr style=\"text-align: right;\">\n",
       "      <th></th>\n",
       "      <th># AGE</th>\n",
       "      <th>PTEDUCAT</th>\n",
       "      <th>PTGENDER_Male</th>\n",
       "      <th>PTETHCAT_Not Hisp/Latino</th>\n",
       "      <th>PTETHCAT_Unknown</th>\n",
       "      <th>PTRACCAT_Asian</th>\n",
       "      <th>PTRACCAT_Black</th>\n",
       "      <th>PTRACCAT_Hawaiian/Other PI</th>\n",
       "      <th>PTRACCAT_More than one</th>\n",
       "      <th>PTRACCAT_Unknown</th>\n",
       "      <th>...</th>\n",
       "      <th>EcogSPDivatt_Std</th>\n",
       "      <th>EcogSPMem_MaxTime</th>\n",
       "      <th>EcogSPMem_Delta</th>\n",
       "      <th>EcogSPMem_Mean</th>\n",
       "      <th>EcogSPMem_Std</th>\n",
       "      <th>EcogSPTotal_MaxTime</th>\n",
       "      <th>EcogSPTotal_Delta</th>\n",
       "      <th>EcogSPTotal_Mean</th>\n",
       "      <th>EcogSPTotal_Std</th>\n",
       "      <th>Diagnostics</th>\n",
       "    </tr>\n",
       "  </thead>\n",
       "  <tbody>\n",
       "    <tr>\n",
       "      <th>0</th>\n",
<<<<<<< HEAD
       "      <td>70.8</td>\n",
       "      <td>18.0</td>\n",
=======
       "      <td>71.4</td>\n",
       "      <td>16.0</td>\n",
>>>>>>> 492e195c983c432cc4b2098f69bc5014a60c6fbf
       "      <td>0.0</td>\n",
       "      <td>1.0</td>\n",
       "      <td>0.0</td>\n",
       "      <td>0.0</td>\n",
       "      <td>0.0</td>\n",
       "      <td>0.0</td>\n",
       "      <td>0.0</td>\n",
       "      <td>0.0</td>\n",
       "      <td>...</td>\n",
<<<<<<< HEAD
       "      <td>0.273861</td>\n",
       "      <td>35.836100</td>\n",
       "      <td>0.500000</td>\n",
       "      <td>1.400000</td>\n",
       "      <td>0.200000</td>\n",
       "      <td>35.836100</td>\n",
       "      <td>0.474360</td>\n",
       "      <td>1.264148</td>\n",
       "      <td>0.155860</td>\n",
=======
       "      <td>0.000000</td>\n",
       "      <td>47.508200</td>\n",
       "      <td>-0.250000</td>\n",
       "      <td>1.282142</td>\n",
       "      <td>0.199617</td>\n",
       "      <td>47.508200</td>\n",
       "      <td>-0.057140</td>\n",
       "      <td>1.058122</td>\n",
       "      <td>0.040870</td>\n",
>>>>>>> 492e195c983c432cc4b2098f69bc5014a60c6fbf
       "      <td>0.0</td>\n",
       "    </tr>\n",
       "    <tr>\n",
       "      <th>1</th>\n",
<<<<<<< HEAD
       "      <td>73.6</td>\n",
       "      <td>14.0</td>\n",
=======
       "      <td>74.8</td>\n",
       "      <td>16.0</td>\n",
       "      <td>0.0</td>\n",
>>>>>>> 492e195c983c432cc4b2098f69bc5014a60c6fbf
       "      <td>1.0</td>\n",
       "      <td>0.0</td>\n",
       "      <td>0.0</td>\n",
       "      <td>0.0</td>\n",
       "      <td>0.0</td>\n",
       "      <td>0.0</td>\n",
       "      <td>0.0</td>\n",
       "      <td>0.0</td>\n",
       "      <td>...</td>\n",
<<<<<<< HEAD
       "      <td>0.292155</td>\n",
       "      <td>47.568787</td>\n",
       "      <td>0.136681</td>\n",
       "      <td>2.212264</td>\n",
       "      <td>0.255054</td>\n",
       "      <td>47.593345</td>\n",
       "      <td>0.208163</td>\n",
       "      <td>1.906405</td>\n",
       "      <td>0.199563</td>\n",
=======
       "      <td>0.297766</td>\n",
       "      <td>48.020467</td>\n",
       "      <td>0.138635</td>\n",
       "      <td>2.186372</td>\n",
       "      <td>0.257828</td>\n",
       "      <td>48.127597</td>\n",
       "      <td>0.205664</td>\n",
       "      <td>1.882784</td>\n",
       "      <td>0.201916</td>\n",
>>>>>>> 492e195c983c432cc4b2098f69bc5014a60c6fbf
       "      <td>1.0</td>\n",
       "    </tr>\n",
       "    <tr>\n",
       "      <th>2</th>\n",
<<<<<<< HEAD
       "      <td>87.3</td>\n",
       "      <td>18.0</td>\n",
=======
       "      <td>61.6</td>\n",
       "      <td>17.0</td>\n",
>>>>>>> 492e195c983c432cc4b2098f69bc5014a60c6fbf
       "      <td>1.0</td>\n",
       "      <td>1.0</td>\n",
       "      <td>0.0</td>\n",
       "      <td>0.0</td>\n",
       "      <td>0.0</td>\n",
       "      <td>0.0</td>\n",
       "      <td>0.0</td>\n",
       "      <td>0.0</td>\n",
       "      <td>...</td>\n",
<<<<<<< HEAD
       "      <td>0.292155</td>\n",
       "      <td>47.568787</td>\n",
       "      <td>0.136681</td>\n",
       "      <td>2.212264</td>\n",
       "      <td>0.255054</td>\n",
       "      <td>47.593345</td>\n",
       "      <td>0.208163</td>\n",
       "      <td>1.906405</td>\n",
       "      <td>0.199563</td>\n",
       "      <td>1.0</td>\n",
       "    </tr>\n",
       "  </tbody>\n",
       "</table>\n",
       "<p>3 rows × 114 columns</p>\n",
=======
       "      <td>0.564692</td>\n",
       "      <td>60.098400</td>\n",
       "      <td>-1.125000</td>\n",
       "      <td>1.285714</td>\n",
       "      <td>0.382160</td>\n",
       "      <td>60.098400</td>\n",
       "      <td>-0.282050</td>\n",
       "      <td>1.278389</td>\n",
       "      <td>0.248760</td>\n",
       "      <td>0.0</td>\n",
       "    </tr>\n",
       "  </tbody>\n",
       "</table>\n",
       "<p>3 rows × 120 columns</p>\n",
>>>>>>> 492e195c983c432cc4b2098f69bc5014a60c6fbf
       "</div>"
      ],
      "text/plain": [
       "   # AGE  PTEDUCAT  PTGENDER_Male  PTETHCAT_Not Hisp/Latino  PTETHCAT_Unknown  \\\n",
<<<<<<< HEAD
       "0   70.8      18.0            0.0                       1.0               0.0   \n",
       "1   73.6      14.0            1.0                       1.0               0.0   \n",
       "2   87.3      18.0            1.0                       1.0               0.0   \n",
=======
       "0   71.4      16.0            0.0                       1.0               0.0   \n",
       "1   74.8      16.0            0.0                       1.0               0.0   \n",
       "2   61.6      17.0            1.0                       1.0               0.0   \n",
>>>>>>> 492e195c983c432cc4b2098f69bc5014a60c6fbf
       "\n",
       "   PTRACCAT_Asian  PTRACCAT_Black  PTRACCAT_Hawaiian/Other PI  \\\n",
       "0             0.0             0.0                         0.0   \n",
       "1             0.0             0.0                         0.0   \n",
       "2             0.0             0.0                         0.0   \n",
       "\n",
       "   PTRACCAT_More than one  PTRACCAT_Unknown     ...       EcogSPDivatt_Std  \\\n",
<<<<<<< HEAD
       "0                     0.0               0.0     ...               0.273861   \n",
       "1                     0.0               0.0     ...               0.292155   \n",
       "2                     0.0               0.0     ...               0.292155   \n",
       "\n",
       "   EcogSPMem_MaxTime  EcogSPMem_Delta  EcogSPMem_Mean  EcogSPMem_Std  \\\n",
       "0          35.836100         0.500000        1.400000       0.200000   \n",
       "1          47.568787         0.136681        2.212264       0.255054   \n",
       "2          47.568787         0.136681        2.212264       0.255054   \n",
       "\n",
       "   EcogSPTotal_MaxTime  EcogSPTotal_Delta  EcogSPTotal_Mean  EcogSPTotal_Std  \\\n",
       "0            35.836100           0.474360          1.264148         0.155860   \n",
       "1            47.593345           0.208163          1.906405         0.199563   \n",
       "2            47.593345           0.208163          1.906405         0.199563   \n",
=======
       "0                     0.0               0.0     ...               0.000000   \n",
       "1                     0.0               0.0     ...               0.297766   \n",
       "2                     0.0               0.0     ...               0.564692   \n",
       "\n",
       "   EcogSPMem_MaxTime  EcogSPMem_Delta  EcogSPMem_Mean  EcogSPMem_Std  \\\n",
       "0          47.508200        -0.250000        1.282142       0.199617   \n",
       "1          48.020467         0.138635        2.186372       0.257828   \n",
       "2          60.098400        -1.125000        1.285714       0.382160   \n",
       "\n",
       "   EcogSPTotal_MaxTime  EcogSPTotal_Delta  EcogSPTotal_Mean  EcogSPTotal_Std  \\\n",
       "0            47.508200          -0.057140          1.058122         0.040870   \n",
       "1            48.127597           0.205664          1.882784         0.201916   \n",
       "2            60.098400          -0.282050          1.278389         0.248760   \n",
>>>>>>> 492e195c983c432cc4b2098f69bc5014a60c6fbf
       "\n",
       "   Diagnostics  \n",
       "0          0.0  \n",
       "1          1.0  \n",
<<<<<<< HEAD
       "2          1.0  \n",
       "\n",
       "[3 rows x 114 columns]"
=======
       "2          0.0  \n",
       "\n",
       "[3 rows x 120 columns]"
>>>>>>> 492e195c983c432cc4b2098f69bc5014a60c6fbf
      ]
     },
     "metadata": {},
     "output_type": "display_data"
    },
    {
     "name": "stdout",
     "output_type": "stream",
     "text": [
      " Feature reduction implementing using Affinity Propagation \n",
      "----------------------------------------------------------------------------\n",
<<<<<<< HEAD
      "- Original train matrix has size (1163, 113)\n",
      "- Reduced train matrix has size (1163, 23)\n",
      "- Original test matrix has size (574, 113)\n",
      "- Reduced test matrix has size (574, 23)\n",
      "- Number of features selected 23\n"
=======
      "- Original train matrix has size (1163L, 119L)\n",
      "- Reduced train matrix has size (1163L, 31L)\n",
      "- Original test matrix has size (574L, 119L)\n",
      "- Reduced test matrix has size (574L, 31L)\n",
      "- Number of features selected 31\n"
>>>>>>> 492e195c983c432cc4b2098f69bc5014a60c6fbf
     ]
    }
   ],
   "source": [
    "# ----------------------------------\n",
    "# Feature Reduction \n",
    "# ----------------------------------\n",
    "\n",
    "# Input and Output files from Feature Reduction for train set\n",
    "InputToFeatureReduction_train     ='ImputedMatrix_train.csv'\n",
    "OutputFromFeatureReduction_train  ='Features_train.csv'\n",
    "InputToFeatureReduction_test      ='ImputedMatrix_test.csv'\n",
    "OutputFromFeatureReduction_test   ='Features_test.csv'\n",
    "\n",
    "\n",
    "# Normalization method\n",
    "NormalizationMethod='MinMax'\n",
    "#NormalizationMethod='MeanStd'\n",
    "\n",
    "# Feature Reduction Method and Settings\n",
    "#FeatureReductionMethod='SVD'; \n",
    "ExplainedVariance=0.99; # For method 'SVD'\n",
    "\n",
    "FeatureReductionMethod='AffinityPropagation'; \n",
    "APpreference=-50; # Hyperparameter for method 'AffinityPropagation'\n",
    "\n",
    "\n",
    "# Run Feature Reduction\n",
    "FeatureReduction.RunFeatureReduction(InputToFeatureReduction_train,OutputFromFeatureReduction_train,\\\n",
    "                                     InputToFeatureReduction_test,OutputFromFeatureReduction_test,\\\n",
    "                                     NormalizationMethod,FeatureReductionMethod,ExplainedVariance,APpreference)\n",
    "\n"
   ]
  },
  {
   "cell_type": "code",
<<<<<<< HEAD
   "execution_count": null,
=======
   "execution_count": 9,
>>>>>>> 492e195c983c432cc4b2098f69bc5014a60c6fbf
   "metadata": {
    "collapsed": false
   },
   "outputs": [
    {
     "name": "stderr",
     "output_type": "stream",
     "text": [
      "C:\\Users\\David Castineira\\Anaconda2\\lib\\site-packages\\sklearn\\neural_network\\multilayer_perceptron.py:563: ConvergenceWarning: Stochastic Optimizer: Maximum iterations reached and the optimization hasn't converged yet.\n",
      "  % (), ConvergenceWarning)\n"
     ]
    }
   ],
   "source": [
    "# ------------------\n",
    "# Supervised Learning- options currently are LogisticRegression, RandomForest, MLP, knn\n",
    "# ------------------\n",
    "\n",
    "#parameters = {'C': [0.001,0.01,0.1,0.5,1], 'penalty': ['l1','l2']}\n",
    "#model = \"LogisticRegression\"\n",
    "\n",
    "#parameters = {'n_estimators': [10,100,200]}#, \n",
    "#     'criterion' : ['gini', 'entropy'],\n",
    "#     'max_features' : ['sqrt', 'log2'],\n",
    "#     'max_depth' : np.arange(5, 25, 2)}\n",
    "#model = \"RandomForest\"\n",
    "\n",
    "#parameters = {'n_neighbors': [1,3,5,7,11]}\n",
    "#model = 'knn'\n",
    "\n",
    "parameters = {'alpha': [0.001, 0.01, 0.1, 1]}\n",
    "model = \"MLP\"\n",
    "\n",
    "#parameters = {'C': [0.001,0.01,0.1,0.5,1], 'kernel': ['linear', 'poly', 'rbf', 'sigmoid'], 'probability': [True]}\n",
    "#model = \"SVM\"\n",
    "\n",
    "#parameters = {'n_estimators' : range(10, 60, 10)}\n",
    "#model = \"AdaBoost\"\n",
    "\n",
    "# parameters = {'n_estimators' : range(10, 60, 10)}\n",
    "# model = \"GradientBoosting\"\n",
    "\n",
    "# parameters = {'C' : np.logspace(-5, 3, 5),\n",
    "#             'loss' : ['hinge', 'squared_hinge']}\n",
    "# model = \"LinearSVM\"\n",
    "\n",
    "# parameters = {'criterion' : ['gini', 'entropy'],\n",
    "#     'max_features' : ['sqrt', 'log2', None],\n",
    "#     'max_depth' : np.arange(10, 20)}\n",
    "# model = \"DecisionTree\"\n",
    "\n",
    "result = SupervisedLearning.TuneAndReport(model, parameters, 5, 'recall')\n"
   ]
  },
  {
   "cell_type": "code",
<<<<<<< HEAD
   "execution_count": null,
   "metadata": {
    "collapsed": false
   },
   "outputs": [],
=======
   "execution_count": 10,
   "metadata": {
    "collapsed": false
   },
   "outputs": [
    {
     "name": "stdout",
     "output_type": "stream",
     "text": [
      "[[318   7]\n",
      " [ 36 213]]\n",
      "[0.92508710801393723, 0.85542168674698793, 0.96818181818181814, 0.90831556503198285]\n"
     ]
    }
   ],
>>>>>>> 492e195c983c432cc4b2098f69bc5014a60c6fbf
   "source": [
    "### ------------------\n",
    "# Model Evaluation\n",
    "# ------------------\n",
    "print ModelPerformance.model_performance('confusion_matrix')\n",
    "print ModelPerformance.model_performance('all')\n",
    "\n",
    "\n",
    "#print ModelPerformance.model_performance('roc')"
   ]
  },
  {
   "cell_type": "code",
   "execution_count": null,
   "metadata": {
    "collapsed": true
   },
   "outputs": [],
   "source": []
  },
  {
   "cell_type": "code",
   "execution_count": null,
   "metadata": {
    "collapsed": true
   },
   "outputs": [],
   "source": []
  },
  {
   "cell_type": "markdown",
   "metadata": {},
   "source": [
    "# Test all Models"
   ]
  },
  {
   "cell_type": "code",
   "execution_count": null,
   "metadata": {
    "collapsed": false
   },
   "outputs": [],
   "source": [
    "parameters = {'C': [0.001,0.01,0.1,0.5,1], 'penalty': ['l1','l2']}\n",
    "model = \"LogisticRegression\"\n",
    "result = SupervisedLearning.TuneAndReport(model, parameters, 5, 'recall')\n",
    "print ModelPerformance.model_performance('all')\n",
    "\n",
    "\n",
    "parameters = {'n_estimators': [10,100,200,500,1000]} \n",
    "     #'criterion' : ['gini', 'entropy'],\n",
    "     #'max_features' : ['sqrt', 'log2'],\n",
    "     #'max_depth' : np.arange(5, 25, 2)}\n",
    "model = \"RandomForest\"\n",
    "result = SupervisedLearning.TuneAndReport(model, parameters, 5, 'recall')\n",
    "print ModelPerformance.model_performance('all')\n",
    "\n",
    "\n",
    "parameters = {'n_neighbors': [1,3,5,7,11]}\n",
    "model = 'knn'\n",
    "result = SupervisedLearning.TuneAndReport(model, parameters, 5, 'recall')\n",
    "print ModelPerformance.model_performance('all')\n",
    "\n",
    "\n",
    "parameters = {'alpha': [0.001, 0.01, 0.1, 1]}\n",
    "model = \"MLP\"\n",
    "result = SupervisedLearning.TuneAndReport(model, parameters, 5, 'recall')\n",
    "print ModelPerformance.model_performance('all')\n",
    "\n",
    "\n",
    "parameters = {'C': [0.001,0.01,0.1,0.5,1], 'kernel': ['linear', 'poly', 'rbf', 'sigmoid'], 'probability': [True]}\n",
    "model = \"SVM\"\n",
    "result = SupervisedLearning.TuneAndReport(model, parameters, 5, 'recall')\n",
    "print ModelPerformance.model_performance('all')\n",
    "\n",
    "\n",
    "parameters = {'n_estimators' : range(10, 60, 10)}\n",
    "model = \"AdaBoost\"\n",
    "result = SupervisedLearning.TuneAndReport(model, parameters, 5, 'recall')\n",
    "print ModelPerformance.model_performance('all')\n",
    "\n",
    "\n",
    "parameters = {'n_estimators' : range(10, 60, 10)}\n",
    "model = \"GradientBoosting\"\n",
    "result = SupervisedLearning.TuneAndReport(model, parameters, 5, 'recall')\n",
    "print ModelPerformance.model_performance('all')\n",
    "\n",
    "\n",
    "parameters = {'C' : np.logspace(-5, 3, 5),\n",
    "             'loss' : ['hinge', 'squared_hinge']}\n",
    "model = \"LinearSVM\"\n",
    "result = SupervisedLearning.TuneAndReport(model, parameters, 5, 'recall')\n",
    "print ModelPerformance.model_performance('all')\n",
    "\n",
    "\n",
    "parameters = {'criterion' : ['gini', 'entropy'],\n",
    "     'max_features' : ['sqrt', 'log2', None],\n",
    "     'max_depth' : np.arange(10, 20)}\n",
    "model = \"DecisionTree\"\n",
    "result = SupervisedLearning.TuneAndReport(model, parameters, 5, 'recall')\n",
    "print ModelPerformance.model_performance('all')\n",
    "\n"
   ]
  }
 ],
 "metadata": {
  "anaconda-cloud": {},
  "kernelspec": {
   "display_name": "Python [py27]",
   "language": "python",
   "name": "Python [py27]"
  },
  "language_info": {
   "codemirror_mode": {
    "name": "ipython",
    "version": 2
   },
   "file_extension": ".py",
   "mimetype": "text/x-python",
   "name": "python",
   "nbconvert_exporter": "python",
   "pygments_lexer": "ipython2",
   "version": "2.7.12"
  }
 },
 "nbformat": 4,
 "nbformat_minor": 0
}
