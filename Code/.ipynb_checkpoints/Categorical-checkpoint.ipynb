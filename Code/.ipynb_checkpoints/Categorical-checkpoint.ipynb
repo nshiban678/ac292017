{
 "cells": [
  {
   "cell_type": "code",
   "execution_count": 201,
   "metadata": {
    "collapsed": true
   },
   "outputs": [],
   "source": [
    "import matplotlib.pyplot as plt\n",
    "%matplotlib inline  \n",
    "import numpy as np\n",
    "import pandas as pd\n",
    "from IPython.display import display, HTML\n",
    "from matplotlib import pyplot as plt\n",
    "import collections\n",
    "import matplotlib as mpl\n",
    "from collections import OrderedDict\n",
    "import time\n",
    "from datetime import datetime"
   ]
  },
  {
   "cell_type": "code",
   "execution_count": 292,
   "metadata": {
    "collapsed": false
   },
   "outputs": [],
   "source": [
    "data = pd.read_csv(\"Merged_data.csv\")\n",
    "meanings_df =  pd.read_csv(\"meanings_df.csv\")"
   ]
  },
  {
   "cell_type": "code",
   "execution_count": 257,
   "metadata": {
    "collapsed": false,
    "scrolled": false
   },
   "outputs": [],
   "source": [
    "col_names = list(data)\n",
    "col_name_dictionary = OrderedDict()\n",
    "\n",
    "for i in range(len(meanings_df)):\n",
    "    for j in range(len(col_names)):\n",
    "        if meanings_df.Colnames[i] == col_names[j]:\n",
    "            col_name_dictionary[col_names[j]] = meanings_df.Meanings[i]\n",
    "\n",
    "col_name_dictionary\n",
    "df_cols = pd.DataFrame(col_name_dictionary.items())\n",
    "\n",
    "df_cols.columns = ['column_name', 'description']\n",
    "\n",
    "df_cols.loc[len(df_cols)]=['AD','AD diagnosis'] "
   ]
  },
  {
   "cell_type": "code",
   "execution_count": 234,
   "metadata": {
    "collapsed": false
   },
   "outputs": [],
   "source": [
    "data=data.replace([-1,-4], [np.nan, np.nan])  "
   ]
  },
  {
   "cell_type": "code",
   "execution_count": 260,
   "metadata": {
    "collapsed": false
   },
   "outputs": [],
   "source": [
    "# Append the number of unique values per attribute to df_cols \n",
    "results = []\n",
    "column_type = []\n",
    "sample_values = []\n",
    "for column in data.columns:\n",
    "    results.append(len(data[column].unique()))\n",
    "    column_type.append(data[column].dtype)\n",
    "    sample_values.append(list(data[column].head(10)))\n",
    "df_cols['num_unique_values'] = results\n",
    "df_cols['data_type'] = column_type\n",
    "df_cols['sample_values'] = sample_values"
   ]
  },
  {
   "cell_type": "code",
   "execution_count": 261,
   "metadata": {
    "collapsed": true
   },
   "outputs": [],
   "source": [
    "# Save dataframe to human readable data\n",
    "df_cols.to_csv(\"metadata_table.csv\")"
   ]
  },
  {
   "cell_type": "code",
   "execution_count": 262,
   "metadata": {
    "collapsed": false,
    "scrolled": false
   },
   "outputs": [],
   "source": [
    "#columns that have less than 100 unique values\n",
    "df_cols_un = df_cols[df_cols.num_unique_values<100] "
   ]
  },
  {
   "cell_type": "code",
   "execution_count": 263,
   "metadata": {
    "collapsed": false
   },
   "outputs": [],
   "source": [
    "list_to_drop = []\n",
    "for i in df_cols_un.column_name:\n",
    "    list_to_drop.append(data.columns.get_loc(str(i)))"
   ]
  },
  {
   "cell_type": "code",
   "execution_count": 264,
   "metadata": {
    "collapsed": false
   },
   "outputs": [],
   "source": [
    "list_index_col_orig = []\n",
    "\n",
    "for i in data.columns:\n",
    "    list_index_col_orig.append(data.columns.get_loc(str(i)))"
   ]
  },
  {
   "cell_type": "code",
   "execution_count": 265,
   "metadata": {
    "collapsed": false
   },
   "outputs": [],
   "source": [
    "# List of columns to be converted to floating point\n",
    "list_of_float_index = list(set(list_index_col_orig) - set(list_to_drop))\n",
    "#print \"Number of attributes with float values: \",len(list_of_float_index)\n",
    "to_float_prelim = list(data.columns[list_of_float_index])"
   ]
  },
  {
   "cell_type": "code",
   "execution_count": 266,
   "metadata": {
    "collapsed": false
   },
   "outputs": [],
   "source": [
    "#checking if these two columns (regarding ADNI protocols) are in fact different\n",
    "#row_ids = data[data[\"COLPROT\"] != data.ORIGPROT].index\n",
    "#len(row_ids)"
   ]
  },
  {
   "cell_type": "code",
   "execution_count": 267,
   "metadata": {
    "collapsed": false
   },
   "outputs": [],
   "source": [
    "#manually add categories that should be dealt with as numerical variables\n",
    "to_float = to_float_prelim\n",
    "listss = [\"MMSE\", \"RAVLT_immediate\", \"RAVLT_learning\", \"RAVLT_forgetting\",\"FAQ\", \"MOCA\",\"EcogPtMem\",\n",
    "                       \"EcogPtLang\",\"EcogPtVisspat\", \"EcogPtPlan\", \n",
    "                       \"EcogPtOrgan\", \"EcogPtDivatt\",\"EcogSPMem\",\"EcogSPLang\", \"EcogSPVisspat\",\n",
    "                       \"EcogSPPlan\",\"EcogSPOrgan\",\"EcogSPDivatt\", \"CDRSB_bl\",\n",
    "                       \"ADAS11_bl\",\"MMSE_bl\",\"RAVLT_immediate_bl\", \"RAVLT_learning_bl\",\n",
    "                       \"RAVLT_forgetting_bl\",\"RAVLT_perc_forgetting_bl\",\"FAQ_bl\", \"MOCA_bl\",\n",
    "                       \"EcogPtMem_bl\",\"EcogPtLang_bl\",\"EcogPtVisspat_bl\", \"EcogPtPlan_bl\",\n",
    "                       \"EcogPtOrgan_bl\",\"EcogPtDivatt_bl\",\"EcogSPMem_bl\", \"EcogSPLang_bl\",\n",
    "                       \"EcogSPVisspat_bl\",\"EcogSPPlan_bl\",\"EcogSPOrgan_bl\", \"EcogSPDivatt_bl\",\n",
    "                       \"PIB_bl\",\"Month\", \"M\"]\n",
    "\n",
    "to_float = to_float_prelim + listss\n",
    "    \n",
    "#print to_float\n",
    "#print len(to_float)"
   ]
  },
  {
   "cell_type": "code",
   "execution_count": null,
   "metadata": {
    "collapsed": true
   },
   "outputs": [],
   "source": [
    "#to_float.pop(1)\n",
    "#to_float.pop(16)\n",
    "#to_float.index(\"update_stamp\")\n",
    "#to_float.pop(30)"
   ]
  },
  {
   "cell_type": "markdown",
   "metadata": {},
   "source": [
    "### Dealing with date atttibutes"
   ]
  },
  {
   "cell_type": "code",
   "execution_count": 269,
   "metadata": {
    "collapsed": false
   },
   "outputs": [],
   "source": [
    "date_columns = ['update_stamp', 'EXAMDATE_bl', 'EXAMDATE']"
   ]
  },
  {
   "cell_type": "code",
   "execution_count": 270,
   "metadata": {
    "collapsed": false
   },
   "outputs": [],
   "source": [
    "update_stamp_new = []\n",
    "for i in range(len(data.update_stamp)):\n",
    "    update_stamp_new.append(data.update_stamp[i][:-11])\n",
    "\n",
    "data.update_stamp = update_stamp_new"
   ]
  },
  {
   "cell_type": "markdown",
   "metadata": {},
   "source": [
    "#### ML algorithms can't deal with date columns explicitly. It's worth noting that information is mostly contained not in aboslute date values, but **differences** in them (i.e. how much time has passed between some actions). "
   ]
  },
  {
   "cell_type": "code",
   "execution_count": 271,
   "metadata": {
    "collapsed": false
   },
   "outputs": [],
   "source": [
    "conv_update_stamp = []\n",
    "conv_exam_date_bl = []\n",
    "conv_exam_date = []\n",
    "\n",
    "for item in data.update_stamp:\n",
    "    t= datetime.strptime(item , '%Y-%m-%d')\n",
    "    t1 = t.timetuple()\n",
    "    conv_update_stamp.append(time.mktime(t1))\n",
    "\n",
    "for item in data.EXAMDATE_bl:\n",
    "    t= datetime.strptime(item , '%Y-%m-%d')\n",
    "    t1 = t.timetuple()\n",
    "    conv_exam_date_bl.append(time.mktime(t1))\n",
    "    \n",
    "for item in data.EXAMDATE:\n",
    "    t= datetime.strptime(item , '%Y-%m-%d')\n",
    "    t1 = t.timetuple()\n",
    "    conv_exam_date.append(time.mktime(t1))\n",
    "    \n",
    "data.update_stamp = conv_update_stamp\n",
    "data.EXAMDATE_bl = conv_exam_date_bl\n",
    "data.EXAMDATE = conv_exam_date"
   ]
  },
  {
   "cell_type": "code",
   "execution_count": 272,
   "metadata": {
    "collapsed": false
   },
   "outputs": [],
   "source": [
    "for i in range(len(date_columns)):\n",
    "    for j in range(i + 1, len(date_columns)):\n",
    "        column_name = date_columns[i] + '_minus_' + date_columns[j]\n",
    "        data[column_name] = data[date_columns[i]] - data[date_columns[j]]\n",
    "data.drop(date_columns, axis=1, inplace=True)"
   ]
  },
  {
   "cell_type": "markdown",
   "metadata": {},
   "source": [
    "### one-hot encoding"
   ]
  },
  {
   "cell_type": "code",
   "execution_count": 273,
   "metadata": {
    "collapsed": false
   },
   "outputs": [],
   "source": [
    "transformed_data = data.copy()"
   ]
  },
  {
   "cell_type": "code",
   "execution_count": 274,
   "metadata": {
    "collapsed": false
   },
   "outputs": [],
   "source": [
    "count_threshold = 100\n",
    "\n",
    "columns = transformed_data.columns[transformed_data.dtypes == object]\n",
    "ohe_columns = filter(lambda x: len(np.unique(transformed_data[x])) < count_threshold, columns)\n",
    "remove_columns = filter(lambda x: len(np.unique(transformed_data[x])) >= count_threshold, columns)\n",
    "\n",
    "\n",
    "transformed_data.drop(remove_columns, axis=1, inplace=True)\n",
    "transformed_data = pd.get_dummies(transformed_data, columns=ohe_columns)"
   ]
  },
  {
   "cell_type": "code",
   "execution_count": 282,
   "metadata": {
    "collapsed": false
   },
   "outputs": [
    {
     "data": {
      "text/plain": [
       "['RID',\n",
       " 'SITE',\n",
       " 'AGE',\n",
       " 'PTEDUCAT',\n",
       " 'APOE4',\n",
       " 'CDRSB',\n",
       " 'ADAS11',\n",
       " 'ADAS13',\n",
       " 'MMSE',\n",
       " 'RAVLT_immediate',\n",
       " 'RAVLT_learning',\n",
       " 'RAVLT_forgetting',\n",
       " 'RAVLT_perc_forgetting',\n",
       " 'FAQ',\n",
       " 'MOCA',\n",
       " 'EcogPtMem',\n",
       " 'EcogPtLang',\n",
       " 'EcogPtVisspat',\n",
       " 'EcogPtPlan',\n",
       " 'EcogPtOrgan',\n",
       " 'EcogPtDivatt',\n",
       " 'EcogPtTotal',\n",
       " 'EcogSPMem',\n",
       " 'EcogSPLang',\n",
       " 'EcogSPVisspat',\n",
       " 'EcogSPPlan',\n",
       " 'EcogSPOrgan',\n",
       " 'EcogSPDivatt',\n",
       " 'EcogSPTotal',\n",
       " 'CDRSB_bl',\n",
       " 'ADAS11_bl',\n",
       " 'ADAS13_bl',\n",
       " 'MMSE_bl',\n",
       " 'RAVLT_immediate_bl',\n",
       " 'RAVLT_learning_bl',\n",
       " 'RAVLT_forgetting_bl',\n",
       " 'RAVLT_perc_forgetting_bl',\n",
       " 'FAQ_bl',\n",
       " 'MOCA_bl',\n",
       " 'EcogPtMem_bl',\n",
       " 'EcogPtLang_bl',\n",
       " 'EcogPtVisspat_bl',\n",
       " 'EcogPtPlan_bl',\n",
       " 'EcogPtOrgan_bl',\n",
       " 'EcogPtDivatt_bl',\n",
       " 'EcogPtTotal_bl',\n",
       " 'EcogSPMem_bl',\n",
       " 'EcogSPLang_bl',\n",
       " 'EcogSPVisspat_bl',\n",
       " 'EcogSPPlan_bl',\n",
       " 'EcogSPOrgan_bl',\n",
       " 'EcogSPDivatt_bl',\n",
       " 'EcogSPTotal_bl',\n",
       " 'Years_bl',\n",
       " 'Month_bl',\n",
       " 'Month',\n",
       " 'M',\n",
       " 'AD',\n",
       " 'update_stamp_minus_EXAMDATE_bl',\n",
       " 'update_stamp_minus_EXAMDATE',\n",
       " 'EXAMDATE_bl_minus_EXAMDATE',\n",
       " 'VISCODE_bl',\n",
       " 'VISCODE_m06',\n",
       " 'VISCODE_m108',\n",
       " 'VISCODE_m12',\n",
       " 'VISCODE_m120',\n",
       " 'VISCODE_m24',\n",
       " 'VISCODE_m36',\n",
       " 'VISCODE_m48',\n",
       " 'VISCODE_m60',\n",
       " 'VISCODE_m72',\n",
       " 'VISCODE_m84',\n",
       " 'VISCODE_m96',\n",
       " 'COLPROT_ADNI2',\n",
       " 'ORIGPROT_ADNI1',\n",
       " 'ORIGPROT_ADNI2',\n",
       " 'ORIGPROT_ADNIGO',\n",
       " 'DX_bl_AD',\n",
       " 'DX_bl_CN',\n",
       " 'DX_bl_EMCI',\n",
       " 'DX_bl_LMCI',\n",
       " 'DX_bl_SMC',\n",
       " 'PTGENDER_Female',\n",
       " 'PTGENDER_Male',\n",
       " 'PTETHCAT_Hisp/Latino',\n",
       " 'PTETHCAT_Not Hisp/Latino',\n",
       " 'PTETHCAT_Unknown',\n",
       " 'PTRACCAT_Am Indian/Alaskan',\n",
       " 'PTRACCAT_Asian',\n",
       " 'PTRACCAT_Black',\n",
       " 'PTRACCAT_Hawaiian/Other PI',\n",
       " 'PTRACCAT_More than one',\n",
       " 'PTRACCAT_Unknown',\n",
       " 'PTRACCAT_White',\n",
       " 'PTMARRY_Divorced',\n",
       " 'PTMARRY_Married',\n",
       " 'PTMARRY_Never married',\n",
       " 'PTMARRY_Unknown',\n",
       " 'PTMARRY_Widowed']"
      ]
     },
     "execution_count": 282,
     "metadata": {},
     "output_type": "execute_result"
    }
   ],
   "source": [
    "transformed_data.columns.tolist()"
   ]
  },
  {
   "cell_type": "code",
   "execution_count": 285,
   "metadata": {
    "collapsed": true
   },
   "outputs": [],
   "source": [
    "transformed_data_removed_cols = transformed_data.copy()\n",
    "colll = ['RAVLT_immediate',\n",
    " 'EcogPtMem',\n",
    " 'EcogSPMem',\n",
    " 'RAVLT_immediate_bl',\n",
    " 'EcogPtMem_bl',\n",
    " 'EcogSPMem_bl',\n",
    " 'VISCODE_bl',\n",
    " 'VISCODE_m06',\n",
    " 'ORIGPROT_ADNI1',\n",
    " 'PTGENDER_Female',\n",
    " 'PTETHCAT_Hisp/Latino',\n",
    " 'PTRACCAT_Am Indian/Alaskan',\n",
    " 'PTMARRY_Divorced',\n",
    " 'DX_bl_AD']"
   ]
  },
  {
   "cell_type": "code",
   "execution_count": 286,
   "metadata": {
    "collapsed": false
   },
   "outputs": [],
   "source": [
    "for col in colll:\n",
    "    transformed_data_removed_cols = transformed_data_removed_cols.drop(col, 1)"
   ]
  },
  {
   "cell_type": "code",
   "execution_count": 287,
   "metadata": {
    "collapsed": false
   },
   "outputs": [
    {
     "data": {
      "text/plain": [
       "Index([u'RID', u'SITE', u'AGE', u'PTEDUCAT', u'APOE4', u'CDRSB', u'ADAS11',\n",
       "       u'ADAS13', u'MMSE', u'RAVLT_learning', u'RAVLT_forgetting',\n",
       "       u'RAVLT_perc_forgetting', u'FAQ', u'MOCA', u'EcogPtLang',\n",
       "       u'EcogPtVisspat', u'EcogPtPlan', u'EcogPtOrgan', u'EcogPtDivatt',\n",
       "       u'EcogPtTotal', u'EcogSPLang', u'EcogSPVisspat', u'EcogSPPlan',\n",
       "       u'EcogSPOrgan', u'EcogSPDivatt', u'EcogSPTotal', u'CDRSB_bl',\n",
       "       u'ADAS11_bl', u'ADAS13_bl', u'MMSE_bl', u'RAVLT_learning_bl',\n",
       "       u'RAVLT_forgetting_bl', u'RAVLT_perc_forgetting_bl', u'FAQ_bl',\n",
       "       u'MOCA_bl', u'EcogPtLang_bl', u'EcogPtVisspat_bl', u'EcogPtPlan_bl',\n",
       "       u'EcogPtOrgan_bl', u'EcogPtDivatt_bl', u'EcogPtTotal_bl',\n",
       "       u'EcogSPLang_bl', u'EcogSPVisspat_bl', u'EcogSPPlan_bl',\n",
       "       u'EcogSPOrgan_bl', u'EcogSPDivatt_bl', u'EcogSPTotal_bl', u'Years_bl',\n",
       "       u'Month_bl', u'Month', u'M', u'AD', u'update_stamp_minus_EXAMDATE_bl',\n",
       "       u'update_stamp_minus_EXAMDATE', u'EXAMDATE_bl_minus_EXAMDATE',\n",
       "       u'VISCODE_m108', u'VISCODE_m12', u'VISCODE_m120', u'VISCODE_m24',\n",
       "       u'VISCODE_m36', u'VISCODE_m48', u'VISCODE_m60', u'VISCODE_m72',\n",
       "       u'VISCODE_m84', u'VISCODE_m96', u'COLPROT_ADNI2', u'ORIGPROT_ADNI2',\n",
       "       u'ORIGPROT_ADNIGO', u'DX_bl_CN', u'DX_bl_EMCI', u'DX_bl_LMCI',\n",
       "       u'DX_bl_SMC', u'PTGENDER_Male', u'PTETHCAT_Not Hisp/Latino',\n",
       "       u'PTETHCAT_Unknown', u'PTRACCAT_Asian', u'PTRACCAT_Black',\n",
       "       u'PTRACCAT_Hawaiian/Other PI', u'PTRACCAT_More than one',\n",
       "       u'PTRACCAT_Unknown', u'PTRACCAT_White', u'PTMARRY_Married',\n",
       "       u'PTMARRY_Never married', u'PTMARRY_Unknown', u'PTMARRY_Widowed'],\n",
       "      dtype='object')"
      ]
     },
     "execution_count": 287,
     "metadata": {},
     "output_type": "execute_result"
    }
   ],
   "source": [
    "transformed_data_removed_cols.columns"
   ]
  },
  {
   "cell_type": "code",
   "execution_count": 288,
   "metadata": {
    "collapsed": false
   },
   "outputs": [],
   "source": [
    "#place AD column at the end\n",
    "last_col_index = transformed_data_removed_cols.shape[1]\n",
    "cols = transformed_data_removed_cols.columns.tolist()\n",
    "cols.insert(last_col_index, cols.pop(cols.index('AD')))\n",
    "transformed_data_removed_cols = transformed_data_removed_cols.reindex(columns= cols)"
   ]
  },
  {
   "cell_type": "code",
   "execution_count": 289,
   "metadata": {
    "collapsed": false
   },
   "outputs": [
    {
     "data": {
      "text/plain": [
       "['RID',\n",
       " 'SITE',\n",
       " 'AGE',\n",
       " 'PTEDUCAT',\n",
       " 'APOE4',\n",
       " 'CDRSB',\n",
       " 'ADAS11',\n",
       " 'ADAS13',\n",
       " 'MMSE',\n",
       " 'RAVLT_learning',\n",
       " 'RAVLT_forgetting',\n",
       " 'RAVLT_perc_forgetting',\n",
       " 'FAQ',\n",
       " 'MOCA',\n",
       " 'EcogPtLang',\n",
       " 'EcogPtVisspat',\n",
       " 'EcogPtPlan',\n",
       " 'EcogPtOrgan',\n",
       " 'EcogPtDivatt',\n",
       " 'EcogPtTotal',\n",
       " 'EcogSPLang',\n",
       " 'EcogSPVisspat',\n",
       " 'EcogSPPlan',\n",
       " 'EcogSPOrgan',\n",
       " 'EcogSPDivatt',\n",
       " 'EcogSPTotal',\n",
       " 'CDRSB_bl',\n",
       " 'ADAS11_bl',\n",
       " 'ADAS13_bl',\n",
       " 'MMSE_bl',\n",
       " 'RAVLT_learning_bl',\n",
       " 'RAVLT_forgetting_bl',\n",
       " 'RAVLT_perc_forgetting_bl',\n",
       " 'FAQ_bl',\n",
       " 'MOCA_bl',\n",
       " 'EcogPtLang_bl',\n",
       " 'EcogPtVisspat_bl',\n",
       " 'EcogPtPlan_bl',\n",
       " 'EcogPtOrgan_bl',\n",
       " 'EcogPtDivatt_bl',\n",
       " 'EcogPtTotal_bl',\n",
       " 'EcogSPLang_bl',\n",
       " 'EcogSPVisspat_bl',\n",
       " 'EcogSPPlan_bl',\n",
       " 'EcogSPOrgan_bl',\n",
       " 'EcogSPDivatt_bl',\n",
       " 'EcogSPTotal_bl',\n",
       " 'Years_bl',\n",
       " 'Month_bl',\n",
       " 'Month',\n",
       " 'M',\n",
       " 'update_stamp_minus_EXAMDATE_bl',\n",
       " 'update_stamp_minus_EXAMDATE',\n",
       " 'EXAMDATE_bl_minus_EXAMDATE',\n",
       " 'VISCODE_m108',\n",
       " 'VISCODE_m12',\n",
       " 'VISCODE_m120',\n",
       " 'VISCODE_m24',\n",
       " 'VISCODE_m36',\n",
       " 'VISCODE_m48',\n",
       " 'VISCODE_m60',\n",
       " 'VISCODE_m72',\n",
       " 'VISCODE_m84',\n",
       " 'VISCODE_m96',\n",
       " 'COLPROT_ADNI2',\n",
       " 'ORIGPROT_ADNI2',\n",
       " 'ORIGPROT_ADNIGO',\n",
       " 'DX_bl_CN',\n",
       " 'DX_bl_EMCI',\n",
       " 'DX_bl_LMCI',\n",
       " 'DX_bl_SMC',\n",
       " 'PTGENDER_Male',\n",
       " 'PTETHCAT_Not Hisp/Latino',\n",
       " 'PTETHCAT_Unknown',\n",
       " 'PTRACCAT_Asian',\n",
       " 'PTRACCAT_Black',\n",
       " 'PTRACCAT_Hawaiian/Other PI',\n",
       " 'PTRACCAT_More than one',\n",
       " 'PTRACCAT_Unknown',\n",
       " 'PTRACCAT_White',\n",
       " 'PTMARRY_Married',\n",
       " 'PTMARRY_Never married',\n",
       " 'PTMARRY_Unknown',\n",
       " 'PTMARRY_Widowed',\n",
       " 'AD']"
      ]
     },
     "execution_count": 289,
     "metadata": {},
     "output_type": "execute_result"
    }
   ],
   "source": [
    "transformed_data_removed_cols.columns.tolist()"
   ]
  },
  {
   "cell_type": "code",
   "execution_count": 290,
   "metadata": {
    "collapsed": true
   },
   "outputs": [],
   "source": [
    "\n",
    "# Save dataframe to human readable data\n",
    "transformed_data_removed_cols.to_csv(\"CategoricalToNumerical.csv\")"
   ]
  }
 ],
 "metadata": {
  "anaconda-cloud": {},
  "kernelspec": {
   "display_name": "Python [py27]",
   "language": "python",
   "name": "Python [py27]"
  },
  "language_info": {
   "codemirror_mode": {
    "name": "ipython",
    "version": 2
   },
   "file_extension": ".py",
   "mimetype": "text/x-python",
   "name": "python",
   "nbconvert_exporter": "python",
   "pygments_lexer": "ipython2",
   "version": "2.7.12"
  }
 },
 "nbformat": 4,
 "nbformat_minor": 1
}
