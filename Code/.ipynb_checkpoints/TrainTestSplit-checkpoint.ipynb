{
 "cells": [
  {
   "cell_type": "code",
   "execution_count": 3,
   "metadata": {
    "collapsed": true
   },
   "outputs": [],
   "source": [
    "from sklearn.model_selection import train_test_split\n",
    "import numpy as np\n",
    "import pandas as pd"
   ]
  },
  {
   "cell_type": "code",
   "execution_count": 1,
   "metadata": {
    "collapsed": false
   },
   "outputs": [],
   "source": [
    "def traintest_split(test_percentage, train_study = None, test_study = None):\n",
    "    \"\"\"Function that splits data into training and test set\n",
    "    \n",
    "    Parameters:\n",
    "    ----------\n",
    "    test_percentage: percentage of dataset to use as test set\n",
    "    \n",
    "    Saves files:\n",
    "    -----------\n",
    "    LongitudinalDataAnalysis_train.csv\n",
    "    LongitudinalDataAnalysis_test.csv\n",
    "    train_indices.csv: indices of original data set used for training set\n",
    "    test_indices.csv: indices of original data set used for test set\n",
    "    \"\"\"\n",
    "    if train_study == None and test_study == None:\n",
    "        data = pd.read_csv(\"LongitudinalDataAnalysis.csv\")\n",
    "        labels = list(data)\n",
    "\n",
    "        data = data.as_matrix()[:,:] \n",
    "\n",
    "        Y = data[:, -1]\n",
    "        X = data[:,0:-1]\n",
    "\n",
    "        indices = np.arange(len(data))\n",
    "\n",
    "        training_set_X, test_set_X, training_set_Y, test_set_Y, indices_train, indices_test = train_test_split(\n",
    "        X, Y, indices, test_size=test_percentage)\n",
    "\n",
    "        ##### Save files #####\n",
    "        Yy = np.transpose(np.asmatrix(training_set_Y))\n",
    "        Yyy = np.transpose(np.asmatrix(test_set_Y))\n",
    "\n",
    "        train = np.concatenate((training_set_X, Yy), axis=1)\n",
    "        test = np.concatenate((test_set_X, Yyy), axis=1)\n",
    "\n",
    "        data_train = pd.DataFrame(data=train[:,:],  \n",
    "                     columns=labels)  \n",
    "\n",
    "        data_test = pd.DataFrame(data=test[:,:],  \n",
    "                     columns=labels) \n",
    "        \n",
    "        try:\n",
    "            del data_train['ORIGPROT_ADNI2']\n",
    "            del data_test['ORIGPROT_ADNI2']\n",
    "            del data_train['ORIGPROT_ADNIGO']\n",
    "            del data_test['ORIGPROT_ADNIGO']\n",
    "        except:\n",
    "            pass\n",
    "\n",
    "        data_train.to_csv(\"LongitudinalDataAnalysis_train.csv\", index = False, na_rep = np.nan)\n",
    "        data_test.to_csv(\"LongitudinalDataAnalysis_test.csv\", index = False, na_rep = np.nan)\n",
    "\n",
    "        np.savetxt('train_indices.csv', indices_train, delimiter=',')\n",
    "        np.savetxt('test_indices.csv', indices_test, delimiter=',')\n",
    "        #########################\n",
    "    else:\n",
    "        \n",
    "        data = pd.read_csv(\"LongitudinalDataAnalysis.csv\")\n",
    "        labels = list(data)\n",
    "        \n",
    "        if train_study == 'ADNI1':\n",
    "            data_train = data[(data['ORIGPROT_ADNI2'] == 0) & (data['ORIGPROT_ADNIGO'] == 0)]\n",
    "        elif train_study == 'ADNI2':\n",
    "            data_train = data[(data['ORIGPROT_ADNI2'] == 1)]\n",
    "        elif train_study == 'ADNIGO':\n",
    "            data_train = data[(data['ORIGPROT_ADNIGO'] == 1)]\n",
    "\n",
    "        if test_study == 'ADNI1':\n",
    "            data_test = data[(data['ORIGPROT_ADNI2'] == 0) & (data['ORIGPROT_ADNIGO'] == 0)]\n",
    "        elif test_study == 'ADNI2':\n",
    "            data_test = data[(data['ORIGPROT_ADNI2'] == 1)]\n",
    "        elif test_study == 'ADNIGO':\n",
    "            data_test = data[(data['ORIGPROT_ADNIGO'] == 1)]\n",
    "            \n",
    "        try:\n",
    "            del data_train['ORIGPROT_ADNI2']\n",
    "            del data_test['ORIGPROT_ADNI2']\n",
    "            del data_train['ORIGPROT_ADNIGO']\n",
    "            del data_test['ORIGPROT_ADNIGO']\n",
    "        except:\n",
    "            pass\n",
    "\n",
    "        data_train.to_csv(\"LongitudinalDataAnalysis_train.csv\", index = False, na_rep = np.nan)\n",
    "        data_test.to_csv(\"LongitudinalDataAnalysis_test.csv\", index = False, na_rep = np.nan)\n",
    "\n",
    "        #########################\n",
    "        \n"
   ]
  },
  {
   "cell_type": "markdown",
   "metadata": {
    "collapsed": false
   },
   "source": [
    "traintest_split(0.33)"
   ]
  }
 ],
 "metadata": {
  "anaconda-cloud": {},
  "kernelspec": {
   "display_name": "Python [py27]",
   "language": "python",
   "name": "Python [py27]"
  },
  "language_info": {
   "codemirror_mode": {
    "name": "ipython",
    "version": 2
   },
   "file_extension": ".py",
   "mimetype": "text/x-python",
   "name": "python",
   "nbconvert_exporter": "python",
   "pygments_lexer": "ipython2",
   "version": "2.7.12"
  }
 },
 "nbformat": 4,
 "nbformat_minor": 0
}
