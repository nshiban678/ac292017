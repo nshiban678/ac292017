{
 "cells": [
  {
   "cell_type": "code",
   "execution_count": 8,
   "metadata": {
    "collapsed": true
   },
   "outputs": [],
   "source": [
    "import numpy as np\n",
    "import csv\n",
    "import textwrap\n",
    "from dateutil.parser import parse\n",
    "from operator import add\n",
    "from datetime import datetime\n",
    "\n",
    "import os,sys,inspect\n",
    "currentdir = os.path.dirname(os.path.abspath(inspect.getfile(inspect.currentframe())))\n",
    "parentdir = os.path.dirname(currentdir)\n",
    "sys.path.insert(0,parentdir) "
   ]
  },
  {
   "cell_type": "markdown",
   "metadata": {},
   "source": [
    "## Look for Reversion In Both Files"
   ]
  },
  {
   "cell_type": "markdown",
   "metadata": {},
   "source": [
    "Reversion is defined as follows:\n",
    "\n",
    "In the ADNIMERGE file: Reversion occurs if a patient is diagnosed with Dementia on one visit and then the next visit temporally (with present data) they are diagnosed with MCI or CN. \n",
    "\n",
    "In the Diagnosis file: Reversion occurs if either the DXCHANGE explicitly shows reversion from AD (to CN or MCI) or the DXCURREN from one visit shows AD and shows MCI or CN for the next visit temporally. "
   ]
  },
  {
   "cell_type": "code",
   "execution_count": 14,
   "metadata": {
    "collapsed": false
   },
   "outputs": [
    {
     "name": "stdout",
     "output_type": "stream",
     "text": [
      "Patients we need to correct label for (they are NOT AD patients): [769, 93]\n"
     ]
    }
   ],
   "source": [
    "patients_nonDementiaAD = set()\n",
    "\n",
    "DX_CURREN = {'1':'NL', \"2\": 'MCI', \"3\": 'AD', \"\":\"\"}\n",
    "DX_CHANGE = {'1':\"Stable:NL to NL\",'2':\"Stable: MCI to MCI\",'3':\"Stable: AD to AD\",'4':\"Conv:NL to MCI\",'5':\"Conv:MCI to AD\",'6':\"Conv:NL to AD\", '7':\"Rev:MCI to NL\",'8':\"Rev:AD to MCI\",'9':\"Conv:AD to NL\",\"\":\"\"}\n",
    "\n",
    "patient_diagnosis_dict = {}\n",
    "with open('../../Assessments/DXSUM_PDXCONV_ADNIALL.csv') as csvfile:\n",
    "    reader = csv.reader(csvfile, delimiter=',')\n",
    "    next(reader) #skip header\n",
    "    for row in reader:\n",
    "        RID = int(row[2])\n",
    "        EXAMDATE = datetime.strptime(row[8], '%m/%d/%Y')\n",
    "        Dx_curren = row[10]\n",
    "        Dx_change = row[9]\n",
    "        DXOTHDEM = row[47]\n",
    "        \n",
    "        #add to dictionary\n",
    "        ##################\n",
    "        if RID not in patient_diagnosis_dict:\n",
    "            patient_diagnosis_dict[RID] = []\n",
    "            \n",
    "        patient_diagnosis_dict[RID].append([EXAMDATE, Dx_change, Dx_curren])\n",
    "        \n",
    "        #Check for the Non-AD dementia cases\n",
    "        ##################\n",
    "        #if Dx_change indicates AD but non-AD dementia by DXOTHDEM\n",
    "        if DXOTHDEM == \"1\":\n",
    "            if Dx_change in ['3','5','6'] or Dx_curren == '3':\n",
    "                patients_nonDementiaAD.add(RID)\n",
    "    \n",
    "\n",
    "reverted_patients = set()    \n",
    "for patient in patient_diagnosis_dict:\n",
    "    exams = sorted(patient_diagnosis_dict[patient])\n",
    "\n",
    "    #Check for reversions in Diagnosis File\n",
    "    ##################\n",
    "    for i in range(len(exams)):\n",
    "        dx_change = exams[i][1]\n",
    "        dx_current = exams[i][2]\n",
    "        \n",
    "        if dx_change == '8' or dx_change == '9':\n",
    "            reverted_patients.add(patient)\n",
    "            \n",
    "        \n",
    "        for j in range(i+1,len(exams)):\n",
    "            dx_change_new = exams[j][1]\n",
    "            dx_current_new = exams[j][2]\n",
    "            if dx_current == '3' or dx_change in ['3', '5', '6']: #if diagnosed as AD\n",
    "                if dx_current_new in ['2','3'] or dx_change_new in ['1','2','4','7']:\n",
    "                    reverted_patients.add(patient)\n",
    "            \n",
    "          \n",
    "        #if currently have AD, make sure the coding isnt messed up\n",
    "        #if i+1 < len(exams) and dx_change in ['3','5','6']:\n",
    "        #    dx_change_new = exams[i+1][1]\n",
    "        #    if dx_change_new in ['1','2','4','7']:\n",
    "        #        reverted_patients.add(patient)\n",
    "                \n",
    "        #if currently have AD, make sure the next time they dont have NL or MCI\n",
    "        #if i+1 < len(exams) and dx_current == '3':\n",
    "        #    dx_current_new = exams[i+1][2]\n",
    "        #    if dx_current_new == \"1\" or dx_current_new == \"2\":\n",
    "        #        reverted_patients.add(patient)\n",
    "\n",
    "print \"Patients we need to correct label for (they are NOT AD patients):\",list(patients_nonDementiaAD)"
   ]
  },
  {
   "cell_type": "markdown",
   "metadata": {},
   "source": [
    "### Check in Main File Now"
   ]
  },
  {
   "cell_type": "code",
   "execution_count": 16,
   "metadata": {
    "collapsed": false
   },
   "outputs": [],
   "source": [
    "patient_dict = {}\n",
    "labels = []\n",
    "\n",
    "RID = 0\n",
    "COLPROT = 4\n",
    "EXAMDATE = 6\n",
    "DX_bl = 7\n",
    "DX = 51\n",
    "\n",
    "with open('../../Data___Database/ADNIMERGE.csv') as csvfile:\n",
    "    reader = csv.reader(csvfile, delimiter=',')\n",
    "    for row in reader:\n",
    "        if row[0] == \"RID\":\n",
    "            labels = row\n",
    "        else:\n",
    "            if int(row[0]) not in patient_dict:\n",
    "                patient_dict[int(row[0])] = []\n",
    "            \n",
    "            date = datetime.strptime(row[EXAMDATE], '%Y-%m-%d')\n",
    "            patient_dict[int(row[0])].append([date, row[DX]])\n",
    "\n",
    "            \n",
    "reverted_patients_diag = set()    \n",
    "for patient in patient_dict:\n",
    "    exams = sorted(patient_dict[patient])\n",
    "\n",
    "    #Check for reversions in Main File\n",
    "    ##################\n",
    "    for i in range(len(exams)):\n",
    "        diag = exams[i][1]\n",
    "        if diag == \"Dementia to MCI\":\n",
    "            reverted_patients_diag.add(patient)\n",
    "  \n",
    "        elif i+1 < len(exams) and (diag == 'Dementia' or diag.split(' ')[-1] == 'Dementia') and patient not in [769,93]:\n",
    "            next_index = i+1\n",
    "            while next_index < len(exams)-1 and exams[next_index][1] != \"\":\n",
    "                next_index += 1\n",
    "            \n",
    "            #I allow MCI to Dementia because this looks like a coding error- if the last visit DX was Dementia and the next is MCI to Dementia, I assume that they had Dementia the whole time\n",
    "            if exams[next_index][1] not in ['Dementia', 'MCI to Dementia'] and exams[next_index][1] != \"\":\n",
    "                reverted_patients_diag.add(patient)\n",
    "  \n"
   ]
  },
  {
   "cell_type": "code",
   "execution_count": 15,
   "metadata": {
    "collapsed": false
   },
   "outputs": [
    {
     "name": "stdout",
     "output_type": "stream",
     "text": [
      "Reverted patients in Diagnosis File are:\n",
      "[135, 162, 166, 167, 429, 507, 555, 566, 702, 1226, 2210, 2274, 2367, 4005, 4114, 4293, 4426, 4430, 4434, 4641, 4706, 4741, 4746, 4845, 4899, 4947]\n",
      "\n",
      " Reverted patients in Main File are:\n",
      "[162, 167, 429, 555, 702, 739, 1226, 2367, 4005, 4114, 4426, 4434, 4641, 4706, 4746]\n",
      "\n",
      " All 27 potential reversion patients:\n",
      "[135, 162, 166, 167, 429, 507, 555, 566, 702, 739, 1226, 2210, 2274, 2367, 4005, 4114, 4293, 4426, 4430, 4434, 4641, 4706, 4741, 4746, 4845, 4899, 4947]\n"
     ]
    }
   ],
   "source": [
    "print \"Reverted patients in Diagnosis File are:\"\n",
    "print sorted(list(reverted_patients))\n",
    "\n",
    "print \"\\n Reverted patients in Main File are:\"\n",
    "print sorted(list(reverted_patients_diag))\n",
    "\n",
    "union = list(reverted_patients | reverted_patients_diag)\n",
    "print \"\\n All\",  len(union), \"potential reversion patients:\"\n",
    "print sorted(union)"
   ]
  }
 ],
 "metadata": {
  "anaconda-cloud": {},
  "kernelspec": {
   "display_name": "Python [py27]",
   "language": "python",
   "name": "Python [py27]"
  },
  "language_info": {
   "codemirror_mode": {
    "name": "ipython",
    "version": 2
   },
   "file_extension": ".py",
   "mimetype": "text/x-python",
   "name": "python",
   "nbconvert_exporter": "python",
   "pygments_lexer": "ipython2",
   "version": "2.7.12"
  }
 },
 "nbformat": 4,
 "nbformat_minor": 0
}
