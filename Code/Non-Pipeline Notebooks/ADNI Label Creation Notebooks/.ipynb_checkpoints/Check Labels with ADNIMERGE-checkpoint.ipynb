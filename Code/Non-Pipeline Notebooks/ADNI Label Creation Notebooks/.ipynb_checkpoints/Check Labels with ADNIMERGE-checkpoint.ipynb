{
 "cells": [
  {
   "cell_type": "code",
   "execution_count": 5,
   "metadata": {
    "collapsed": true
   },
   "outputs": [],
   "source": [
    "import matplotlib.pyplot as plt\n",
    "%matplotlib inline  \n",
    "import numpy as np\n",
    "import collections\n",
    "import csv\n",
    "import pandas as pd \n",
    "from scipy.stats import mode\n",
    "from dateutil.parser import parse\n",
    "from dateutil.parser import parse\n",
    "from datetime import datetime"
   ]
  },
  {
   "cell_type": "markdown",
   "metadata": {},
   "source": [
    "## Check labels with ADNIMERGE"
   ]
  },
  {
   "cell_type": "markdown",
   "metadata": {},
   "source": [
    "Because we're using the Diagnosis file to create the labels, double check that the labels are consistent with the ADNIMERGE DX column"
   ]
  },
  {
   "cell_type": "code",
   "execution_count": null,
   "metadata": {
    "collapsed": true
   },
   "outputs": [],
   "source": [
    "#make patient dictionary of RID --> rows corresponding to patient\n",
    "patient_dict = {}\n",
    "labels = []\n",
    "with open('../../Data___Database/ADNIMERGE.csv') as csvfile:\n",
    "    reader = csv.reader(csvfile, delimiter=',')\n",
    "    for row in reader:\n",
    "        if row[0] == \"RID\":\n",
    "            labels = row\n",
    "        else:\n",
    "            EXAMDATE = datetime.strptime(row[6], '%Y-%m-%d')\n",
    "            Dx = row[51]\n",
    "            if int(row[0]) not in patient_dict:\n",
    "                patient_dict[int(row[0])] = []\n",
    "            patient_dict[int(row[0])].append([EXAMDATE,Dx])\n",
    "\n",
    "patient_matrix = []\n",
    "for patient in patient_dict:\n",
    "    visits = sorted(patient_dict[patient])\n",
    "    \n",
    "    i = len(visits)-1\n",
    "    while i >= 0 and not visits[i][1]:\n",
    "        i = i - 1\n",
    "    \n",
    "    last_dx = visits[i][1]\n",
    "    \n",
    "    if last_dx in ['Dementia', 'MCI to Dementia', 'NL to Dementia']:\n",
    "        AD = 1\n",
    "    else:\n",
    "        AD = 0\n",
    "    \n",
    "    patient_matrix.append([patient, AD]) \n",
    "    \n",
    "\n"
   ]
  },
  {
   "cell_type": "code",
   "execution_count": null,
   "metadata": {
    "collapsed": true
   },
   "outputs": [],
   "source": []
  }
 ],
 "metadata": {
  "anaconda-cloud": {},
  "kernelspec": {
   "display_name": "Python [py27]",
   "language": "python",
   "name": "Python [py27]"
  },
  "language_info": {
   "codemirror_mode": {
    "name": "ipython",
    "version": 2
   },
   "file_extension": ".py",
   "mimetype": "text/x-python",
   "name": "python",
   "nbconvert_exporter": "python",
   "pygments_lexer": "ipython2",
   "version": "2.7.12"
  }
 },
 "nbformat": 4,
 "nbformat_minor": 0
}
