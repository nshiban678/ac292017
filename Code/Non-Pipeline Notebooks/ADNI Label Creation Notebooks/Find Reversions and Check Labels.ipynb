{
 "cells": [
  {
   "cell_type": "code",
   "execution_count": 2,
   "metadata": {
    "collapsed": true
   },
   "outputs": [],
   "source": [
    "import numpy as np\n",
    "import collections\n",
    "import csv\n",
    "import pandas as pd \n",
    "import textwrap\n",
    "from dateutil.parser import parse\n",
    "from datetime import datetime\n",
    "\n",
    "import os,sys,inspect\n",
    "currentdir = os.path.dirname(os.path.abspath(inspect.getfile(inspect.currentframe())))\n",
    "parentdir = os.path.dirname(currentdir)\n",
    "sys.path.insert(0,parentdir) "
   ]
  },
  {
   "cell_type": "markdown",
   "metadata": {},
   "source": [
    "# Find Diagnosis File Reversions"
   ]
  },
  {
   "cell_type": "markdown",
   "metadata": {},
   "source": [
    "This part finds the patients who reverted (had AD and then either were diagnosed later with MCI or CN) and did not end up (temporally) with a diagnosis of AD. "
   ]
  },
  {
   "cell_type": "code",
   "execution_count": 4,
   "metadata": {
    "collapsed": false
   },
   "outputs": [],
   "source": [
    "DX_CURREN = {'1':'NL', \"2\": 'MCI', \"3\": 'AD', \"\":\"\"}\n",
    "DX_CHANGE = {'1':\"Stable:NL to NL\",'2':\"Stable:MCI to MCI\",'3':\"Stable:AD to AD\",'4':\"Conv:NL to MCI\",'5':\"Conv:MCI to AD\",'6':\"Conv:NL to AD\", '7':\"Rev:MCI to NL\",'8':\"Rev:AD to MCI\",'9':\"Conv:AD to NL\",\"\":\"\"}\n",
    "\n",
    "patient_diagnosis_dict = {}\n",
    "with open('../../Assessments/DXSUM_PDXCONV_ADNIALL.csv') as csvfile:\n",
    "    reader = csv.reader(csvfile, delimiter=',')\n",
    "    next(reader) #skip header\n",
    "    for row in reader:\n",
    "        RID = int(row[2])\n",
    "        EXAMDATE = datetime.strptime(row[8], '%m/%d/%Y')\n",
    "        Dx_curren = row[10]\n",
    "        Dx_change = row[9]\n",
    "        DXOTHDEM = row[47]\n",
    "\n",
    "        if RID not in patient_diagnosis_dict:\n",
    "            patient_diagnosis_dict[RID] = []\n",
    "\n",
    "        #use the DXCURREN or DXCHANGE, depending on which is present\n",
    "        if Dx_curren != \"\" and Dx_change == \"\":\n",
    "            patient_diagnosis_dict[RID].append([EXAMDATE, DX_CURREN[Dx_curren]])\n",
    "        elif Dx_change != \"\" and Dx_curren == \"\":\n",
    "            patient_diagnosis_dict[RID].append([EXAMDATE, DX_CHANGE[Dx_change]])\n",
    "        else:\n",
    "            assert 1 == 0\n",
    "\n",
    "always_CN = set()\n",
    "always_AD = set()\n",
    "AD = set()\n",
    "always_MCI = set()\n",
    "reverts = set()\n",
    "\n",
    "count = 0 \n",
    "#take the most recent diagnosis information \n",
    "for patient in patient_diagnosis_dict:\n",
    "    count += 1\n",
    "    exams = sorted(patient_diagnosis_dict[patient])\n",
    "    diagnoses = [i[1] for i in exams]\n",
    "               \n",
    "    normal_opts = ['NL', 'MCI', 'Stable:NL to NL',  'Stable:MCI to MCI', 'Conv:NL to MCI', 'Rev:MCI to NL']\n",
    "\n",
    "    valid_transitions = {'AD':[\"Stable:AD to AD\",\"Conv:MCI to AD\",\"AD\"], #note, allow MCI-->AD because still end up at AD (allow for coding error)\n",
    "                         \"Stable:AD to AD\":[\"Stable:AD to AD\",\"Conv:MCI to AD\",\"AD\"],\n",
    "                         \"Conv:MCI to AD\":[\"Stable:AD to AD\",\"Conv:MCI to AD\",'AD'],\n",
    "                     \"Conv:NL to AD\":[\"Stable:AD to AD\",\"Conv:NL to AD\",'AD']}\n",
    "    reverter = 0\n",
    "    #diagnosis file explicit reverts\n",
    "    if any(i in ['Rev:AD to MCI','Rev:AD to NL'] for i in diagnoses):\n",
    "        reverter = 1\n",
    "         \n",
    "    #If have AD, make sure next visit they don't revert\n",
    "    for i in range(len(diagnoses)):\n",
    "        for j in range(i+1,len(diagnoses)):\n",
    "            if diagnoses[i] in ['AD' ,'Stable:AD to AD', 'Conv:MCI to AD', 'Conv:NL to AD'] and diagnoses[j] not in valid_transitions[diagnoses[i]]:\n",
    "                reverter = 1\n",
    "    \n",
    "    #Only count as reversion patient if the ultimate diagnosis is not AD\n",
    "    if reverter == 1 and diagnoses[-1] not in ['AD',\"Stable:AD to AD\",\"Conv:MCI to AD\",\"Conv:NL to AD\"]:\n",
    "        reverts.add(patient)\n",
    "        \n",
    "    #if only normal (CN or MCI)\n",
    "    elif all(i in normal_opts for i in diagnoses):\n",
    "        always_CN.add(patient)\n",
    "    \n",
    "    elif all(i == 'AD' or i == 'Stable:AD to AD' for i in diagnoses):\n",
    "        always_AD.add(patient)\n",
    "        \n",
    "    elif all(i == 'MCI' or i == 'Stable:MCI to MCI' for i in diagnoses):\n",
    "        always_MCI.add(patient)\n",
    "       \n",
    "    else:\n",
    "        AD.add(patient)\n",
    "        \n",
    "\n",
    "#make sure each patient is in one set\n",
    "assert len(list(always_AD))+len(list(reverts))+len(list(always_CN))+len(list(always_MCI))+len(list(AD)) == count"
   ]
  },
  {
   "cell_type": "markdown",
   "metadata": {},
   "source": [
    "# Reverted Patients"
   ]
  },
  {
   "cell_type": "code",
   "execution_count": 8,
   "metadata": {
    "collapsed": false
   },
   "outputs": [
    {
     "name": "stdout",
     "output_type": "stream",
     "text": [
      "14 Patients with reversion in Diagnosis File: [167, 429, 555, 1226, 2210, 2367, 4005, 4114, 4426, 4434, 4641, 4706, 4746, 4899]\n"
     ]
    }
   ],
   "source": [
    "print len(list(reverts)), \"Patients with reversion in Diagnosis File:\", sorted(list(reverts))"
   ]
  },
  {
   "cell_type": "markdown",
   "metadata": {},
   "source": [
    "# Check Labels"
   ]
  },
  {
   "cell_type": "markdown",
   "metadata": {},
   "source": [
    "Check the labels in the LongitudinalDataAnalysis file based off of the classifications made above. Row of data being printed means there is a mismatch. (Patient reverted will print if we specify to not exclude the reversion patients and this does not mean anything is incorrect)"
   ]
  },
  {
   "cell_type": "code",
   "execution_count": 12,
   "metadata": {
    "collapsed": false
   },
   "outputs": [
    {
     "name": "stdout",
     "output_type": "stream",
     "text": [
      "167 Patient reverted\n",
      "429 Patient reverted\n",
      "555 Patient reverted\n",
      "1226 Patient reverted\n",
      "2210 Patient reverted\n",
      "2367 Patient reverted\n",
      "4005 Patient reverted\n",
      "4114 Patient reverted\n",
      "4426 Patient reverted\n",
      "4434 Patient reverted\n",
      "4641 Patient reverted\n",
      "4706 Patient reverted\n",
      "4746 Patient reverted\n",
      "4899 Patient reverted\n"
     ]
    }
   ],
   "source": [
    "#open Longitduinal file and compare \n",
    "with open('../../Code/LongitudinalDataAnalysis.csv') as csvfile:\n",
    "    reader = csv.reader(csvfile, delimiter=',')\n",
    "    next(reader) #skip header\n",
    "    for row in reader:\n",
    "        RID = int(float(row[0]))\n",
    "        \n",
    "        if RID in reverts:\n",
    "            print RID,\"Patient reverted\"\n",
    "            \n",
    "        #if should be a 1, and is a zero\n",
    "        if RID in always_AD or RID in AD: \n",
    "            if row[-1] == '0' or row[-1] == 0:\n",
    "                print row \n",
    "                \n",
    "        #if should be a 0, and is a 1\n",
    "        if RID in always_CN or RID in always_MCI:\n",
    "            if row[-1] == '1' or row[-1] == 1:\n",
    "                print row "
   ]
  }
 ],
 "metadata": {
  "kernelspec": {
   "display_name": "Python [py27]",
   "language": "python",
   "name": "Python [py27]"
  },
  "language_info": {
   "codemirror_mode": {
    "name": "ipython",
    "version": 2
   },
   "file_extension": ".py",
   "mimetype": "text/x-python",
   "name": "python",
   "nbconvert_exporter": "python",
   "pygments_lexer": "ipython2",
   "version": "2.7.12"
  }
 },
 "nbformat": 4,
 "nbformat_minor": 0
}
