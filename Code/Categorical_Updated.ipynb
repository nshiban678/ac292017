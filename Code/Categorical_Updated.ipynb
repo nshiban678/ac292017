{
 "cells": [
  {
   "cell_type": "code",
   "execution_count": 132,
   "metadata": {
    "collapsed": true
   },
   "outputs": [],
   "source": [
    "import matplotlib.pyplot as plt\n",
    "%matplotlib inline  \n",
    "import numpy as np\n",
    "import pandas as pd\n",
    "from IPython.display import display, HTML\n",
    "from matplotlib import pyplot as plt\n",
    "import collections\n",
    "import matplotlib as mpl\n",
    "from collections import OrderedDict\n",
    "import time\n",
    "from datetime import datetime"
   ]
  },
  {
   "cell_type": "markdown",
   "metadata": {},
   "source": [
    "## Create Metadata File"
   ]
  },
  {
   "cell_type": "code",
   "execution_count": 134,
   "metadata": {
    "collapsed": false,
    "scrolled": false
   },
   "outputs": [],
   "source": [
    "#set up dictionary of column names mapped to column meanings\n",
    "def create_metadata_file():\n",
    "    data = pd.read_csv(\"Merged_data.csv\")\n",
    "    meanings_df =  pd.read_csv(\"meanings_df.csv\")\n",
    "\n",
    "    col_names = list(data)\n",
    "    col_name_dictionary = OrderedDict()\n",
    "\n",
    "    for i in range(len(meanings_df)):\n",
    "        for j in range(len(col_names)):\n",
    "            if meanings_df.Colnames[i] == col_names[j]:\n",
    "                col_name_dictionary[col_names[j]] = meanings_df.Meanings[i]\n",
    "\n",
    "    df_cols = pd.DataFrame(col_name_dictionary.items())\n",
    "    df_cols.columns = ['column_name', 'description']\n",
    "    df_cols.loc[len(df_cols)]=['AD','AD diagnosis'] \n",
    "    \n",
    "    # Append the number of unique values per attribute to df_cols \n",
    "    results = []\n",
    "    column_type = []\n",
    "    sample_values = []\n",
    "    for column in data.columns:\n",
    "        results.append(len(data[column].unique()))\n",
    "        column_type.append(data[column].dtype)\n",
    "        sample_values.append(list(data[column].head(10)))\n",
    "    df_cols['num_unique_values'] = results\n",
    "    df_cols['data_type'] = column_type\n",
    "    df_cols['sample_values'] = sample_values\n",
    "    \n",
    "    # Save dataframe to human readable data\n",
    "    df_cols.to_csv(\"metadata_table.csv\")\n",
    "    return df_cols"
   ]
  },
  {
   "cell_type": "markdown",
   "metadata": {},
   "source": [
    "## Categorical Conversion"
   ]
  },
  {
   "cell_type": "code",
   "execution_count": 153,
   "metadata": {
    "collapsed": true
   },
   "outputs": [],
   "source": [
    "def categorical_conversion(date_columns, columns_to_ignore):\n",
    "    df_cols = create_metadata_file()\n",
    "    data = pd.read_csv(\"Merged_data.csv\")\n",
    "\n",
    "    categorical_columns = df_cols[(df_cols['data_type'] != 'int64') & (df_cols['data_type'] != 'float64')].column_name\n",
    "    numerical_columns =  df_cols[(df_cols['data_type'] == 'int64') | (df_cols['data_type'] == 'float64')].column_name\n",
    "    \n",
    "    data, categorical_columns = convert_time_variables(data, date_columns, columns_to_ignore, categorical_columns)\n",
    "    \n",
    "    #replace -4 and -1 with Nans\n",
    "    data=data.replace([-1,-4], [np.nan, np.nan])  \n",
    "    \n",
    "    #now one-hot encode\n",
    "    transformed_data = data.copy()\n",
    "    transformed_data = pd.get_dummies(transformed_data, columns=categorical_columns, drop_first = True)\n",
    "\n",
    "    for i in columns_to_ignore:\n",
    "        del transformed_data[i]\n",
    "\n",
    "    print \"Columns that are one-hot encoded\"\n",
    "    print \"-------------------------------------\"\n",
    "    print  list(categorical_columns)\n",
    "\n",
    "    cols = list(transformed_data.columns.values)\n",
    "    cols.remove('AD')\n",
    "    cols.append('AD')\n",
    "    transformed_data = transformed_data[cols]\n",
    "    \n",
    "    #write to output file\n",
    "    transformed_data.to_csv(\"CategoricalToNumerical.csv\")\n",
    "    "
   ]
  },
  {
   "cell_type": "code",
   "execution_count": 2,
   "metadata": {
    "collapsed": true
   },
   "outputs": [],
   "source": [
    "def convert_time_variables(data, date_columns, columns_to_ignore, categorical_columns):\n",
    "\n",
    "    conv_update_stamp = []\n",
    "    conv_exam_date_bl = []\n",
    "    conv_exam_date = []\n",
    "\n",
    "    for item in data.update_stamp:\n",
    "        try:\n",
    "            date = item[:item.find(\" \")]\n",
    "            t= datetime.strptime(date, '%Y-%m-%d')\n",
    "            t1 = t.timetuple()\n",
    "            conv_update_stamp.append(time.mktime(t1))\n",
    "        except:\n",
    "            conv_update_stamp.append(0)\n",
    "\n",
    "    for item in data.EXAMDATE_bl:\n",
    "        try:\n",
    "            t= datetime.strptime(item , '%Y-%m-%d')\n",
    "            t1 = t.timetuple()\n",
    "            conv_exam_date_bl.append(time.mktime(t1))\n",
    "        except:\n",
    "             conv_exam_date_bl.append(0)\n",
    "\n",
    "    for item in data.EXAMDATE:\n",
    "        try:\n",
    "            t= datetime.strptime(item , '%Y-%m-%d')\n",
    "            t1 = t.timetuple()\n",
    "            conv_exam_date.append(time.mktime(t1))\n",
    "        except:\n",
    "            conv_exam_date.append(0)\n",
    "\n",
    "    data.update_stamp = conv_update_stamp\n",
    "    data.EXAMDATE_bl = conv_exam_date_bl\n",
    "    data.EXAMDATE = conv_exam_date\n",
    "\n",
    "    categorical_columns = categorical_columns[~categorical_columns.isin(date_columns)]\n",
    "    categorical_columns = categorical_columns[~categorical_columns.isin(columns_to_ignore)]\n",
    "    \n",
    "    #convert the two dates into delta columns and remove original columns\n",
    "    for i in range(len(date_columns)):\n",
    "        for j in range(i + 1, len(date_columns)):\n",
    "            column_name = date_columns[i] + '_minus_' + date_columns[j]\n",
    "            data[column_name] = data[date_columns[i]] - data[date_columns[j]]\n",
    "\n",
    "    data.drop(date_columns, axis=1, inplace=True)\n",
    "    \n",
    "    return data, categorical_columns"
   ]
  },
  {
   "cell_type": "markdown",
   "metadata": {},
   "source": []
  }
 ],
 "metadata": {
  "anaconda-cloud": {},
  "kernelspec": {
   "display_name": "Python [py27]",
   "language": "python",
   "name": "Python [py27]"
  },
  "language_info": {
   "codemirror_mode": {
    "name": "ipython",
    "version": 2
   },
   "file_extension": ".py",
   "mimetype": "text/x-python",
   "name": "python",
   "nbconvert_exporter": "python",
   "pygments_lexer": "ipython2",
   "version": "2.7.12"
  }
 },
 "nbformat": 4,
 "nbformat_minor": 1
}
